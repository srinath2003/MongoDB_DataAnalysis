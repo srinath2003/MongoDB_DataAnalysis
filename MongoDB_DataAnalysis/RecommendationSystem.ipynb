{
 "cells": [
  {
   "cell_type": "markdown",
   "metadata": {},
   "source": [
    "<h2><center>ANALYSIS ZOMATO DATASET</center></h2>"
   ]
  },
  {
   "cell_type": "markdown",
   "metadata": {},
   "source": [
    " "
   ]
  },
  {
   "cell_type": "markdown",
   "metadata": {},
   "source": [
    " "
   ]
  },
  {
   "cell_type": "markdown",
   "metadata": {},
   "source": [
    " "
   ]
  },
  {
   "cell_type": "markdown",
   "metadata": {},
   "source": [
    " "
   ]
  },
  {
   "cell_type": "markdown",
   "metadata": {},
   "source": [
    " "
   ]
  },
  {
   "cell_type": "markdown",
   "metadata": {},
   "source": [
    " "
   ]
  },
  {
   "cell_type": "markdown",
   "metadata": {},
   "source": [
    "### ABOUT DATASET\n",
    "\n",
    "#### \n",
    "   - <b> url </b>:  contains the url of the restaurant in the zomato website\n",
    "\n",
    "   - <b> address </b> :  contains the address of the restaurant in Bengaluru\n",
    "\n",
    "   - <b> name </b>:  contains the name of the restaurant\n",
    "\n",
    "   - <b> online_order </b> :  whether online ordering is available in the restaurant or not\n",
    "\n",
    "   - <b> book_table</b> :  table book option available or not\n",
    "\n",
    "   - <b> rate </b> :  contains the overall rating of the restaurant out of 5\n",
    "\n",
    "   - <b> votes </b> :  contains total number of rating for the restaurant as of the above mentioned date\n",
    "\n",
    "   - <b> phone </b> :  contains the phone number of the restaurant\n",
    "\n",
    "   - <b> location </b> :  contains the neighborhood in which the restaurant is located\n",
    "\n",
    "   - <b> rest_type </b> :  restaurant type\n",
    "\n",
    "   - <b> dish_liked </b> :  dishes people liked in the restaurant\n",
    "\n",
    "   - <b> cuisines </b> :  food styles, separated by comma\n",
    "\n",
    "   - <b> approx_cost(for two people) </b> :  contains the approximate cost for meal for two people\n",
    "\n",
    "   - <b> reviews_list </b> :  list of tuples containing reviews for the restaurant, each tuple consists of two values, rating and review by the customer\n",
    " \n",
    "   - <b> menu_item </b> :  contains list of menus available in the restaurant\n",
    "\n",
    "   - <b> listed_in(type) </b> :  type of meal\n",
    "\n",
    "   - <b> listed_in(city) </b> :  contains the neighborhood in which the restaurant is listed"
   ]
  },
  {
   "cell_type": "markdown",
   "metadata": {},
   "source": [
    " "
   ]
  },
  {
   "cell_type": "markdown",
   "metadata": {},
   "source": [
    "####  "
   ]
  },
  {
   "cell_type": "markdown",
   "metadata": {},
   "source": [
    "#### IMPORTING PACKAGES"
   ]
  },
  {
   "cell_type": "markdown",
   "metadata": {},
   "source": [
    "##### FOR ACCESSING CLIENT"
   ]
  },
  {
   "cell_type": "code",
   "execution_count": 1,
   "metadata": {},
   "outputs": [],
   "source": [
    "# !pip install pymongo\n",
    "# !pip install plotly\n",
    "# !pip install kaggle\n"
   ]
  },
  {
   "cell_type": "code",
   "execution_count": 2,
   "metadata": {},
   "outputs": [],
   "source": [
    "# !ls"
   ]
  },
  {
   "cell_type": "code",
   "execution_count": 3,
   "metadata": {},
   "outputs": [],
   "source": [
    "# !unzip zomato.csv.zip\n"
   ]
  },
  {
   "cell_type": "code",
   "execution_count": 4,
   "metadata": {},
   "outputs": [],
   "source": [
    "import pymongo\n",
    "from pymongo import MongoClient \n",
    "    \n"
   ]
  },
  {
   "cell_type": "code",
   "execution_count": 5,
   "metadata": {},
   "outputs": [],
   "source": [
    "\n",
    "\n",
    "# Connect with the portnumber and host  \n",
    "client = MongoClient(\"mongodb://localhost:27017/\")  \n"
   ]
  },
  {
   "cell_type": "markdown",
   "metadata": {},
   "source": [
    "#### READING AND ANALYSING THE DATASET"
   ]
  },
  {
   "cell_type": "markdown",
   "metadata": {},
   "source": [
    "##### ACCESSING DATABASE"
   ]
  },
  {
   "cell_type": "code",
   "execution_count": 6,
   "metadata": {},
   "outputs": [
    {
     "data": {
      "text/plain": [
       "['admin', 'config', 'local']"
      ]
     },
     "execution_count": 6,
     "metadata": {},
     "output_type": "execute_result"
    }
   ],
   "source": [
    "dblist=client.list_database_names()\n",
    "dblist"
   ]
  },
  {
   "cell_type": "code",
   "execution_count": 7,
   "metadata": {},
   "outputs": [],
   "source": [
    "# Access database  \n",
    "mydb = client['admin'] \n",
    "collection = mydb['zomo']"
   ]
  },
  {
   "cell_type": "markdown",
   "metadata": {},
   "source": [
    "### RECOMMANDATION SYSTEM"
   ]
  },
  {
   "cell_type": "code",
   "execution_count": 8,
   "metadata": {},
   "outputs": [],
   "source": [
    "# !pip install nltk\n"
   ]
  },
  {
   "cell_type": "code",
   "execution_count": 9,
   "metadata": {},
   "outputs": [],
   "source": [
    "import numpy as np\n",
    "import pandas as pd\n",
    "import warnings\n",
    "warnings.filterwarnings('always')\n",
    "warnings.filterwarnings('ignore')\n",
    "import re\n",
    "from nltk.corpus import stopwords\n",
    "from sklearn.metrics.pairwise import linear_kernel\n",
    "from sklearn.feature_extraction.text import CountVectorizer\n",
    "from sklearn.feature_extraction.text import TfidfVectorizer"
   ]
  },
  {
   "cell_type": "code",
   "execution_count": 10,
   "metadata": {},
   "outputs": [],
   "source": [
    "zomato_real= collection.aggregate([{\"$project\": {\"name\":\"$name\" ,\"approx_cost(for two people)\":\"$approx_cost(for two people)\",\n",
    "                                            \"rate\":\"$rate\",\"reviews_list\":\"$reviews_list\",\"cuisines\":\"$cuisines\"}}])\n"
   ]
  },
  {
   "cell_type": "code",
   "execution_count": 11,
   "metadata": {},
   "outputs": [],
   "source": [
    "zomato_real=pd.DataFrame(zomato_real)"
   ]
  },
  {
   "cell_type": "code",
   "execution_count": 12,
   "metadata": {},
   "outputs": [
    {
     "data": {
      "text/html": [
       "<div>\n",
       "<style scoped>\n",
       "    .dataframe tbody tr th:only-of-type {\n",
       "        vertical-align: middle;\n",
       "    }\n",
       "\n",
       "    .dataframe tbody tr th {\n",
       "        vertical-align: top;\n",
       "    }\n",
       "\n",
       "    .dataframe thead th {\n",
       "        text-align: right;\n",
       "    }\n",
       "</style>\n",
       "<table border=\"1\" class=\"dataframe\">\n",
       "  <thead>\n",
       "    <tr style=\"text-align: right;\">\n",
       "      <th></th>\n",
       "      <th>_id</th>\n",
       "      <th>name</th>\n",
       "      <th>approx_cost(for two people)</th>\n",
       "      <th>rate</th>\n",
       "      <th>reviews_list</th>\n",
       "      <th>cuisines</th>\n",
       "    </tr>\n",
       "  </thead>\n",
       "  <tbody>\n",
       "    <tr>\n",
       "      <th>0</th>\n",
       "      <td>671740a9ca8d0b834008d7b2</td>\n",
       "      <td>Jalsa</td>\n",
       "      <td>800</td>\n",
       "      <td>4.1/5</td>\n",
       "      <td>[('Rated 4.0', 'RATED\\n  A beautiful place to ...</td>\n",
       "      <td>North Indian, Mughlai, Chinese</td>\n",
       "    </tr>\n",
       "    <tr>\n",
       "      <th>1</th>\n",
       "      <td>671740a9ca8d0b834008d7b3</td>\n",
       "      <td>Spice Elephant</td>\n",
       "      <td>800</td>\n",
       "      <td>4.1/5</td>\n",
       "      <td>[('Rated 4.0', 'RATED\\n  Had been here for din...</td>\n",
       "      <td>Chinese, North Indian, Thai</td>\n",
       "    </tr>\n",
       "    <tr>\n",
       "      <th>2</th>\n",
       "      <td>671740a9ca8d0b834008d7b4</td>\n",
       "      <td>San Churro Cafe</td>\n",
       "      <td>800</td>\n",
       "      <td>3.8/5</td>\n",
       "      <td>[('Rated 3.0', \"RATED\\n  Ambience is not that ...</td>\n",
       "      <td>Cafe, Mexican, Italian</td>\n",
       "    </tr>\n",
       "    <tr>\n",
       "      <th>3</th>\n",
       "      <td>671740a9ca8d0b834008d7b5</td>\n",
       "      <td>Addhuri Udupi Bhojana</td>\n",
       "      <td>300</td>\n",
       "      <td>3.7/5</td>\n",
       "      <td>[('Rated 4.0', \"RATED\\n  Great food and proper...</td>\n",
       "      <td>South Indian, North Indian</td>\n",
       "    </tr>\n",
       "    <tr>\n",
       "      <th>4</th>\n",
       "      <td>671740a9ca8d0b834008d7b6</td>\n",
       "      <td>Grand Village</td>\n",
       "      <td>600</td>\n",
       "      <td>3.8/5</td>\n",
       "      <td>[('Rated 4.0', 'RATED\\n  Very good restaurant ...</td>\n",
       "      <td>North Indian, Rajasthani</td>\n",
       "    </tr>\n",
       "  </tbody>\n",
       "</table>\n",
       "</div>"
      ],
      "text/plain": [
       "                        _id                   name  \\\n",
       "0  671740a9ca8d0b834008d7b2                  Jalsa   \n",
       "1  671740a9ca8d0b834008d7b3         Spice Elephant   \n",
       "2  671740a9ca8d0b834008d7b4        San Churro Cafe   \n",
       "3  671740a9ca8d0b834008d7b5  Addhuri Udupi Bhojana   \n",
       "4  671740a9ca8d0b834008d7b6          Grand Village   \n",
       "\n",
       "  approx_cost(for two people)   rate  \\\n",
       "0                         800  4.1/5   \n",
       "1                         800  4.1/5   \n",
       "2                         800  3.8/5   \n",
       "3                         300  3.7/5   \n",
       "4                         600  3.8/5   \n",
       "\n",
       "                                        reviews_list  \\\n",
       "0  [('Rated 4.0', 'RATED\\n  A beautiful place to ...   \n",
       "1  [('Rated 4.0', 'RATED\\n  Had been here for din...   \n",
       "2  [('Rated 3.0', \"RATED\\n  Ambience is not that ...   \n",
       "3  [('Rated 4.0', \"RATED\\n  Great food and proper...   \n",
       "4  [('Rated 4.0', 'RATED\\n  Very good restaurant ...   \n",
       "\n",
       "                         cuisines  \n",
       "0  North Indian, Mughlai, Chinese  \n",
       "1     Chinese, North Indian, Thai  \n",
       "2          Cafe, Mexican, Italian  \n",
       "3      South Indian, North Indian  \n",
       "4        North Indian, Rajasthani  "
      ]
     },
     "execution_count": 12,
     "metadata": {},
     "output_type": "execute_result"
    }
   ],
   "source": [
    "zomato_real.head()"
   ]
  },
  {
   "cell_type": "code",
   "execution_count": 13,
   "metadata": {},
   "outputs": [],
   "source": [
    "df = zomato_real"
   ]
  },
  {
   "cell_type": "code",
   "execution_count": 14,
   "metadata": {},
   "outputs": [],
   "source": [
    "name = list(df.name.unique())"
   ]
  },
  {
   "cell_type": "code",
   "execution_count": 15,
   "metadata": {},
   "outputs": [
    {
     "data": {
      "text/plain": [
       "8792"
      ]
     },
     "execution_count": 15,
     "metadata": {},
     "output_type": "execute_result"
    }
   ],
   "source": [
    "df.name.nunique()"
   ]
  },
  {
   "cell_type": "code",
   "execution_count": 16,
   "metadata": {},
   "outputs": [
    {
     "data": {
      "text/plain": [
       "Index(['_id', 'name', 'approx_cost(for two people)', 'rate', 'reviews_list',\n",
       "       'cuisines'],\n",
       "      dtype='object')"
      ]
     },
     "execution_count": 16,
     "metadata": {},
     "output_type": "execute_result"
    }
   ],
   "source": [
    "df.columns"
   ]
  },
  {
   "cell_type": "code",
   "execution_count": 17,
   "metadata": {},
   "outputs": [
    {
     "data": {
      "text/html": [
       "<div>\n",
       "<style scoped>\n",
       "    .dataframe tbody tr th:only-of-type {\n",
       "        vertical-align: middle;\n",
       "    }\n",
       "\n",
       "    .dataframe tbody tr th {\n",
       "        vertical-align: top;\n",
       "    }\n",
       "\n",
       "    .dataframe thead th {\n",
       "        text-align: right;\n",
       "    }\n",
       "</style>\n",
       "<table border=\"1\" class=\"dataframe\">\n",
       "  <thead>\n",
       "    <tr style=\"text-align: right;\">\n",
       "      <th></th>\n",
       "      <th>_id</th>\n",
       "      <th>name</th>\n",
       "      <th>approx_cost(for two people)</th>\n",
       "      <th>rate</th>\n",
       "      <th>reviews_list</th>\n",
       "      <th>cuisines</th>\n",
       "    </tr>\n",
       "  </thead>\n",
       "  <tbody>\n",
       "    <tr>\n",
       "      <th>0</th>\n",
       "      <td>671740a9ca8d0b834008d7b2</td>\n",
       "      <td>Jalsa</td>\n",
       "      <td>800</td>\n",
       "      <td>4.1/5</td>\n",
       "      <td>[('Rated 4.0', 'RATED\\n  A beautiful place to ...</td>\n",
       "      <td>North Indian, Mughlai, Chinese</td>\n",
       "    </tr>\n",
       "    <tr>\n",
       "      <th>1</th>\n",
       "      <td>671740a9ca8d0b834008d7b3</td>\n",
       "      <td>Spice Elephant</td>\n",
       "      <td>800</td>\n",
       "      <td>4.1/5</td>\n",
       "      <td>[('Rated 4.0', 'RATED\\n  Had been here for din...</td>\n",
       "      <td>Chinese, North Indian, Thai</td>\n",
       "    </tr>\n",
       "    <tr>\n",
       "      <th>2</th>\n",
       "      <td>671740a9ca8d0b834008d7b4</td>\n",
       "      <td>San Churro Cafe</td>\n",
       "      <td>800</td>\n",
       "      <td>3.8/5</td>\n",
       "      <td>[('Rated 3.0', \"RATED\\n  Ambience is not that ...</td>\n",
       "      <td>Cafe, Mexican, Italian</td>\n",
       "    </tr>\n",
       "    <tr>\n",
       "      <th>3</th>\n",
       "      <td>671740a9ca8d0b834008d7b5</td>\n",
       "      <td>Addhuri Udupi Bhojana</td>\n",
       "      <td>300</td>\n",
       "      <td>3.7/5</td>\n",
       "      <td>[('Rated 4.0', \"RATED\\n  Great food and proper...</td>\n",
       "      <td>South Indian, North Indian</td>\n",
       "    </tr>\n",
       "    <tr>\n",
       "      <th>4</th>\n",
       "      <td>671740a9ca8d0b834008d7b6</td>\n",
       "      <td>Grand Village</td>\n",
       "      <td>600</td>\n",
       "      <td>3.8/5</td>\n",
       "      <td>[('Rated 4.0', 'RATED\\n  Very good restaurant ...</td>\n",
       "      <td>North Indian, Rajasthani</td>\n",
       "    </tr>\n",
       "    <tr>\n",
       "      <th>...</th>\n",
       "      <td>...</td>\n",
       "      <td>...</td>\n",
       "      <td>...</td>\n",
       "      <td>...</td>\n",
       "      <td>...</td>\n",
       "      <td>...</td>\n",
       "    </tr>\n",
       "    <tr>\n",
       "      <th>51712</th>\n",
       "      <td>671740aaca8d0b834009a1b2</td>\n",
       "      <td>Best Brews - Four Points by Sheraton Bengaluru...</td>\n",
       "      <td>1,500</td>\n",
       "      <td>3.6 /5</td>\n",
       "      <td>[('Rated 5.0', \"RATED\\n  Food and service are ...</td>\n",
       "      <td>Continental</td>\n",
       "    </tr>\n",
       "    <tr>\n",
       "      <th>51713</th>\n",
       "      <td>671740aaca8d0b834009a1b3</td>\n",
       "      <td>Vinod Bar And Restaurant</td>\n",
       "      <td>600</td>\n",
       "      <td>None</td>\n",
       "      <td>[]</td>\n",
       "      <td>Finger Food</td>\n",
       "    </tr>\n",
       "    <tr>\n",
       "      <th>51714</th>\n",
       "      <td>671740aaca8d0b834009a1b4</td>\n",
       "      <td>Plunge - Sheraton Grand Bengaluru Whitefield H...</td>\n",
       "      <td>2,000</td>\n",
       "      <td>None</td>\n",
       "      <td>[]</td>\n",
       "      <td>Finger Food</td>\n",
       "    </tr>\n",
       "    <tr>\n",
       "      <th>51715</th>\n",
       "      <td>671740aaca8d0b834009a1b5</td>\n",
       "      <td>Chime - Sheraton Grand Bengaluru Whitefield Ho...</td>\n",
       "      <td>2,500</td>\n",
       "      <td>4.3 /5</td>\n",
       "      <td>[('Rated 4.0', 'RATED\\n  Nice and friendly pla...</td>\n",
       "      <td>Finger Food</td>\n",
       "    </tr>\n",
       "    <tr>\n",
       "      <th>51716</th>\n",
       "      <td>671740aaca8d0b834009a1b6</td>\n",
       "      <td>The Nest - The Den Bengaluru</td>\n",
       "      <td>1,500</td>\n",
       "      <td>3.4 /5</td>\n",
       "      <td>[('Rated 5.0', 'RATED\\n  Great ambience , look...</td>\n",
       "      <td>Finger Food, North Indian, Continental</td>\n",
       "    </tr>\n",
       "  </tbody>\n",
       "</table>\n",
       "<p>51717 rows × 6 columns</p>\n",
       "</div>"
      ],
      "text/plain": [
       "                            _id  \\\n",
       "0      671740a9ca8d0b834008d7b2   \n",
       "1      671740a9ca8d0b834008d7b3   \n",
       "2      671740a9ca8d0b834008d7b4   \n",
       "3      671740a9ca8d0b834008d7b5   \n",
       "4      671740a9ca8d0b834008d7b6   \n",
       "...                         ...   \n",
       "51712  671740aaca8d0b834009a1b2   \n",
       "51713  671740aaca8d0b834009a1b3   \n",
       "51714  671740aaca8d0b834009a1b4   \n",
       "51715  671740aaca8d0b834009a1b5   \n",
       "51716  671740aaca8d0b834009a1b6   \n",
       "\n",
       "                                                    name  \\\n",
       "0                                                  Jalsa   \n",
       "1                                         Spice Elephant   \n",
       "2                                        San Churro Cafe   \n",
       "3                                  Addhuri Udupi Bhojana   \n",
       "4                                          Grand Village   \n",
       "...                                                  ...   \n",
       "51712  Best Brews - Four Points by Sheraton Bengaluru...   \n",
       "51713                           Vinod Bar And Restaurant   \n",
       "51714  Plunge - Sheraton Grand Bengaluru Whitefield H...   \n",
       "51715  Chime - Sheraton Grand Bengaluru Whitefield Ho...   \n",
       "51716                       The Nest - The Den Bengaluru   \n",
       "\n",
       "      approx_cost(for two people)    rate  \\\n",
       "0                             800   4.1/5   \n",
       "1                             800   4.1/5   \n",
       "2                             800   3.8/5   \n",
       "3                             300   3.7/5   \n",
       "4                             600   3.8/5   \n",
       "...                           ...     ...   \n",
       "51712                       1,500  3.6 /5   \n",
       "51713                         600    None   \n",
       "51714                       2,000    None   \n",
       "51715                       2,500  4.3 /5   \n",
       "51716                       1,500  3.4 /5   \n",
       "\n",
       "                                            reviews_list  \\\n",
       "0      [('Rated 4.0', 'RATED\\n  A beautiful place to ...   \n",
       "1      [('Rated 4.0', 'RATED\\n  Had been here for din...   \n",
       "2      [('Rated 3.0', \"RATED\\n  Ambience is not that ...   \n",
       "3      [('Rated 4.0', \"RATED\\n  Great food and proper...   \n",
       "4      [('Rated 4.0', 'RATED\\n  Very good restaurant ...   \n",
       "...                                                  ...   \n",
       "51712  [('Rated 5.0', \"RATED\\n  Food and service are ...   \n",
       "51713                                                 []   \n",
       "51714                                                 []   \n",
       "51715  [('Rated 4.0', 'RATED\\n  Nice and friendly pla...   \n",
       "51716  [('Rated 5.0', 'RATED\\n  Great ambience , look...   \n",
       "\n",
       "                                     cuisines  \n",
       "0              North Indian, Mughlai, Chinese  \n",
       "1                 Chinese, North Indian, Thai  \n",
       "2                      Cafe, Mexican, Italian  \n",
       "3                  South Indian, North Indian  \n",
       "4                    North Indian, Rajasthani  \n",
       "...                                       ...  \n",
       "51712                             Continental  \n",
       "51713                             Finger Food  \n",
       "51714                             Finger Food  \n",
       "51715                             Finger Food  \n",
       "51716  Finger Food, North Indian, Continental  \n",
       "\n",
       "[51717 rows x 6 columns]"
      ]
     },
     "execution_count": 17,
     "metadata": {},
     "output_type": "execute_result"
    }
   ],
   "source": [
    "df"
   ]
  },
  {
   "cell_type": "code",
   "execution_count": 18,
   "metadata": {
    "scrolled": true
   },
   "outputs": [],
   "source": [
    "new_shop =df[df[\"rate\"] == \"NEW\" ]"
   ]
  },
  {
   "cell_type": "code",
   "execution_count": 19,
   "metadata": {},
   "outputs": [
    {
     "data": {
      "text/plain": [
       "2208"
      ]
     },
     "execution_count": 19,
     "metadata": {},
     "output_type": "execute_result"
    }
   ],
   "source": [
    "(new_shop.shape)[0]"
   ]
  },
  {
   "cell_type": "code",
   "execution_count": 20,
   "metadata": {},
   "outputs": [],
   "source": [
    "# Remove rows where 'column_name' contains the substring 'new'\n",
    "df = df[~df['rate'].str.contains('NEW', case=False, na=False)]\n"
   ]
  },
  {
   "cell_type": "code",
   "execution_count": 21,
   "metadata": {},
   "outputs": [],
   "source": [
    "# Remove rows where 'rate' contains 'new' or is None\n",
    "df = df[~df['rate'].str.contains('new', case=False, na=False) & df['rate'].notna()]\n"
   ]
  },
  {
   "cell_type": "code",
   "execution_count": 22,
   "metadata": {},
   "outputs": [],
   "source": [
    "# Remove rows where 'column_name' contains the substring 'new'\n",
    "df = df[~df['rate'].str.contains('-', case=False, na=False)]\n"
   ]
  },
  {
   "cell_type": "code",
   "execution_count": 23,
   "metadata": {},
   "outputs": [
    {
     "data": {
      "text/html": [
       "<div>\n",
       "<style scoped>\n",
       "    .dataframe tbody tr th:only-of-type {\n",
       "        vertical-align: middle;\n",
       "    }\n",
       "\n",
       "    .dataframe tbody tr th {\n",
       "        vertical-align: top;\n",
       "    }\n",
       "\n",
       "    .dataframe thead th {\n",
       "        text-align: right;\n",
       "    }\n",
       "</style>\n",
       "<table border=\"1\" class=\"dataframe\">\n",
       "  <thead>\n",
       "    <tr style=\"text-align: right;\">\n",
       "      <th></th>\n",
       "      <th>_id</th>\n",
       "      <th>name</th>\n",
       "      <th>approx_cost(for two people)</th>\n",
       "      <th>rate</th>\n",
       "      <th>reviews_list</th>\n",
       "      <th>cuisines</th>\n",
       "    </tr>\n",
       "  </thead>\n",
       "  <tbody>\n",
       "    <tr>\n",
       "      <th>0</th>\n",
       "      <td>671740a9ca8d0b834008d7b2</td>\n",
       "      <td>Jalsa</td>\n",
       "      <td>800</td>\n",
       "      <td>4.1/5</td>\n",
       "      <td>[('Rated 4.0', 'RATED\\n  A beautiful place to ...</td>\n",
       "      <td>North Indian, Mughlai, Chinese</td>\n",
       "    </tr>\n",
       "    <tr>\n",
       "      <th>1</th>\n",
       "      <td>671740a9ca8d0b834008d7b3</td>\n",
       "      <td>Spice Elephant</td>\n",
       "      <td>800</td>\n",
       "      <td>4.1/5</td>\n",
       "      <td>[('Rated 4.0', 'RATED\\n  Had been here for din...</td>\n",
       "      <td>Chinese, North Indian, Thai</td>\n",
       "    </tr>\n",
       "    <tr>\n",
       "      <th>2</th>\n",
       "      <td>671740a9ca8d0b834008d7b4</td>\n",
       "      <td>San Churro Cafe</td>\n",
       "      <td>800</td>\n",
       "      <td>3.8/5</td>\n",
       "      <td>[('Rated 3.0', \"RATED\\n  Ambience is not that ...</td>\n",
       "      <td>Cafe, Mexican, Italian</td>\n",
       "    </tr>\n",
       "    <tr>\n",
       "      <th>3</th>\n",
       "      <td>671740a9ca8d0b834008d7b5</td>\n",
       "      <td>Addhuri Udupi Bhojana</td>\n",
       "      <td>300</td>\n",
       "      <td>3.7/5</td>\n",
       "      <td>[('Rated 4.0', \"RATED\\n  Great food and proper...</td>\n",
       "      <td>South Indian, North Indian</td>\n",
       "    </tr>\n",
       "    <tr>\n",
       "      <th>4</th>\n",
       "      <td>671740a9ca8d0b834008d7b6</td>\n",
       "      <td>Grand Village</td>\n",
       "      <td>600</td>\n",
       "      <td>3.8/5</td>\n",
       "      <td>[('Rated 4.0', 'RATED\\n  Very good restaurant ...</td>\n",
       "      <td>North Indian, Rajasthani</td>\n",
       "    </tr>\n",
       "    <tr>\n",
       "      <th>...</th>\n",
       "      <td>...</td>\n",
       "      <td>...</td>\n",
       "      <td>...</td>\n",
       "      <td>...</td>\n",
       "      <td>...</td>\n",
       "      <td>...</td>\n",
       "    </tr>\n",
       "    <tr>\n",
       "      <th>51709</th>\n",
       "      <td>671740aaca8d0b834009a1af</td>\n",
       "      <td>The Farm House Bar n Grill</td>\n",
       "      <td>800</td>\n",
       "      <td>3.7 /5</td>\n",
       "      <td>[('Rated 4.0', 'RATED\\n  Ambience- Big and spa...</td>\n",
       "      <td>North Indian, Continental</td>\n",
       "    </tr>\n",
       "    <tr>\n",
       "      <th>51711</th>\n",
       "      <td>671740aaca8d0b834009a1b1</td>\n",
       "      <td>Bhagini</td>\n",
       "      <td>800</td>\n",
       "      <td>2.5 /5</td>\n",
       "      <td>[('Rated 4.0', 'RATED\\n  A fine place to chill...</td>\n",
       "      <td>Andhra, South Indian, Chinese, North Indian</td>\n",
       "    </tr>\n",
       "    <tr>\n",
       "      <th>51712</th>\n",
       "      <td>671740aaca8d0b834009a1b2</td>\n",
       "      <td>Best Brews - Four Points by Sheraton Bengaluru...</td>\n",
       "      <td>1,500</td>\n",
       "      <td>3.6 /5</td>\n",
       "      <td>[('Rated 5.0', \"RATED\\n  Food and service are ...</td>\n",
       "      <td>Continental</td>\n",
       "    </tr>\n",
       "    <tr>\n",
       "      <th>51715</th>\n",
       "      <td>671740aaca8d0b834009a1b5</td>\n",
       "      <td>Chime - Sheraton Grand Bengaluru Whitefield Ho...</td>\n",
       "      <td>2,500</td>\n",
       "      <td>4.3 /5</td>\n",
       "      <td>[('Rated 4.0', 'RATED\\n  Nice and friendly pla...</td>\n",
       "      <td>Finger Food</td>\n",
       "    </tr>\n",
       "    <tr>\n",
       "      <th>51716</th>\n",
       "      <td>671740aaca8d0b834009a1b6</td>\n",
       "      <td>The Nest - The Den Bengaluru</td>\n",
       "      <td>1,500</td>\n",
       "      <td>3.4 /5</td>\n",
       "      <td>[('Rated 5.0', 'RATED\\n  Great ambience , look...</td>\n",
       "      <td>Finger Food, North Indian, Continental</td>\n",
       "    </tr>\n",
       "  </tbody>\n",
       "</table>\n",
       "<p>41665 rows × 6 columns</p>\n",
       "</div>"
      ],
      "text/plain": [
       "                            _id  \\\n",
       "0      671740a9ca8d0b834008d7b2   \n",
       "1      671740a9ca8d0b834008d7b3   \n",
       "2      671740a9ca8d0b834008d7b4   \n",
       "3      671740a9ca8d0b834008d7b5   \n",
       "4      671740a9ca8d0b834008d7b6   \n",
       "...                         ...   \n",
       "51709  671740aaca8d0b834009a1af   \n",
       "51711  671740aaca8d0b834009a1b1   \n",
       "51712  671740aaca8d0b834009a1b2   \n",
       "51715  671740aaca8d0b834009a1b5   \n",
       "51716  671740aaca8d0b834009a1b6   \n",
       "\n",
       "                                                    name  \\\n",
       "0                                                  Jalsa   \n",
       "1                                         Spice Elephant   \n",
       "2                                        San Churro Cafe   \n",
       "3                                  Addhuri Udupi Bhojana   \n",
       "4                                          Grand Village   \n",
       "...                                                  ...   \n",
       "51709                         The Farm House Bar n Grill   \n",
       "51711                                            Bhagini   \n",
       "51712  Best Brews - Four Points by Sheraton Bengaluru...   \n",
       "51715  Chime - Sheraton Grand Bengaluru Whitefield Ho...   \n",
       "51716                       The Nest - The Den Bengaluru   \n",
       "\n",
       "      approx_cost(for two people)    rate  \\\n",
       "0                             800   4.1/5   \n",
       "1                             800   4.1/5   \n",
       "2                             800   3.8/5   \n",
       "3                             300   3.7/5   \n",
       "4                             600   3.8/5   \n",
       "...                           ...     ...   \n",
       "51709                         800  3.7 /5   \n",
       "51711                         800  2.5 /5   \n",
       "51712                       1,500  3.6 /5   \n",
       "51715                       2,500  4.3 /5   \n",
       "51716                       1,500  3.4 /5   \n",
       "\n",
       "                                            reviews_list  \\\n",
       "0      [('Rated 4.0', 'RATED\\n  A beautiful place to ...   \n",
       "1      [('Rated 4.0', 'RATED\\n  Had been here for din...   \n",
       "2      [('Rated 3.0', \"RATED\\n  Ambience is not that ...   \n",
       "3      [('Rated 4.0', \"RATED\\n  Great food and proper...   \n",
       "4      [('Rated 4.0', 'RATED\\n  Very good restaurant ...   \n",
       "...                                                  ...   \n",
       "51709  [('Rated 4.0', 'RATED\\n  Ambience- Big and spa...   \n",
       "51711  [('Rated 4.0', 'RATED\\n  A fine place to chill...   \n",
       "51712  [('Rated 5.0', \"RATED\\n  Food and service are ...   \n",
       "51715  [('Rated 4.0', 'RATED\\n  Nice and friendly pla...   \n",
       "51716  [('Rated 5.0', 'RATED\\n  Great ambience , look...   \n",
       "\n",
       "                                          cuisines  \n",
       "0                   North Indian, Mughlai, Chinese  \n",
       "1                      Chinese, North Indian, Thai  \n",
       "2                           Cafe, Mexican, Italian  \n",
       "3                       South Indian, North Indian  \n",
       "4                         North Indian, Rajasthani  \n",
       "...                                            ...  \n",
       "51709                    North Indian, Continental  \n",
       "51711  Andhra, South Indian, Chinese, North Indian  \n",
       "51712                                  Continental  \n",
       "51715                                  Finger Food  \n",
       "51716       Finger Food, North Indian, Continental  \n",
       "\n",
       "[41665 rows x 6 columns]"
      ]
     },
     "execution_count": 23,
     "metadata": {},
     "output_type": "execute_result"
    }
   ],
   "source": [
    "df"
   ]
  },
  {
   "cell_type": "code",
   "execution_count": 24,
   "metadata": {},
   "outputs": [
    {
     "data": {
      "text/plain": [
       "62"
      ]
     },
     "execution_count": 24,
     "metadata": {},
     "output_type": "execute_result"
    }
   ],
   "source": [
    "df[\"rate\"].nunique()"
   ]
  },
  {
   "cell_type": "code",
   "execution_count": 25,
   "metadata": {},
   "outputs": [],
   "source": [
    "rate =df[\"rate\"].unique()"
   ]
  },
  {
   "cell_type": "code",
   "execution_count": 26,
   "metadata": {},
   "outputs": [
    {
     "data": {
      "text/plain": [
       "array(['4.1/5', '3.8/5', '3.7/5', '3.6/5', '4.6/5', '4.0/5', '4.2/5',\n",
       "       '3.9/5', '3.1/5', '3.0/5', '3.2/5', '3.3/5', '2.8/5', '4.4/5',\n",
       "       '4.3/5', '2.9/5', '3.5/5', '2.6/5', '3.8 /5', '3.4/5', '4.5/5',\n",
       "       '2.5/5', '2.7/5', '4.7/5', '2.4/5', '2.2/5', '2.3/5', '3.4 /5',\n",
       "       '3.6 /5', '4.8/5', '3.9 /5', '4.2 /5', '4.0 /5', '4.1 /5',\n",
       "       '3.7 /5', '3.1 /5', '2.9 /5', '3.3 /5', '2.8 /5', '3.5 /5',\n",
       "       '2.7 /5', '2.5 /5', '3.2 /5', '2.6 /5', '4.5 /5', '4.3 /5',\n",
       "       '4.4 /5', '4.9/5', '2.1/5', '2.0/5', '1.8/5', '4.6 /5', '4.9 /5',\n",
       "       '3.0 /5', '4.8 /5', '2.3 /5', '4.7 /5', '2.4 /5', '2.1 /5',\n",
       "       '2.2 /5', '2.0 /5', '1.8 /5'], dtype=object)"
      ]
     },
     "execution_count": 26,
     "metadata": {},
     "output_type": "execute_result"
    }
   ],
   "source": [
    "rate"
   ]
  },
  {
   "cell_type": "code",
   "execution_count": 27,
   "metadata": {},
   "outputs": [
    {
     "data": {
      "text/plain": [
       "(0, 6)"
      ]
     },
     "execution_count": 27,
     "metadata": {},
     "output_type": "execute_result"
    }
   ],
   "source": [
    "df[df[\"rate\"]=='-'].shape"
   ]
  },
  {
   "cell_type": "code",
   "execution_count": 28,
   "metadata": {},
   "outputs": [],
   "source": [
    "df['rating'] = df['rate'].str.extract(r'(\\d+\\.\\d+)')\n",
    "df['rating'] = pd.to_numeric(df['rating'], errors='coerce')"
   ]
  },
  {
   "cell_type": "code",
   "execution_count": 29,
   "metadata": {},
   "outputs": [
    {
     "data": {
      "text/plain": [
       "_id                             object\n",
       "name                            object\n",
       "approx_cost(for two people)     object\n",
       "rate                            object\n",
       "reviews_list                    object\n",
       "cuisines                        object\n",
       "rating                         float64\n",
       "dtype: object"
      ]
     },
     "execution_count": 29,
     "metadata": {},
     "output_type": "execute_result"
    }
   ],
   "source": [
    "df.dtypes"
   ]
  },
  {
   "cell_type": "markdown",
   "metadata": {},
   "source": [
    "### Removing the Cost column data that contains None and lest than 100"
   ]
  },
  {
   "cell_type": "code",
   "execution_count": 30,
   "metadata": {},
   "outputs": [],
   "source": [
    "df =df[df[\"approx_cost(for two people)\"].notna() ]"
   ]
  },
  {
   "cell_type": "code",
   "execution_count": 31,
   "metadata": {},
   "outputs": [
    {
     "data": {
      "text/plain": [
       "array([800, 300, 600, 700, 550, 500, 450, 650, 400, 900, 200, 750, 150,\n",
       "       850, 100, '1,200', 350, 250, 950, '1,000', '1,500', '1,300', 199,\n",
       "       '1,100', '1,600', 230, 130, '1,700', '1,350', '2,200', '1,400',\n",
       "       '2,000', '1,800', '1,900', 180, 330, '2,500', '2,100', '3,000',\n",
       "       '2,800', '3,400', 50, 40, '1,250', '3,500', '4,000', '2,400',\n",
       "       '2,600', '1,450', 70, '3,200', 240, '6,000', '1,050', '2,300',\n",
       "       '4,100', 120, '5,000', '3,700', '1,650', '2,700', '4,500', 80],\n",
       "      dtype=object)"
      ]
     },
     "execution_count": 31,
     "metadata": {},
     "output_type": "execute_result"
    }
   ],
   "source": [
    "df[\"approx_cost(for two people)\"].unique()"
   ]
  },
  {
   "cell_type": "markdown",
   "metadata": {},
   "source": [
    "### Converting to numeric by removing comma from the cost "
   ]
  },
  {
   "cell_type": "code",
   "execution_count": 32,
   "metadata": {},
   "outputs": [],
   "source": [
    "df['Cost_For_two'] = df['approx_cost(for two people)'].replace(',', '', regex=True)  # Remove commas\n",
    "df['Cost_For_two'] = pd.to_numeric(df['Cost_For_two'], errors='coerce')  # Convert to numeric\n"
   ]
  },
  {
   "cell_type": "code",
   "execution_count": 33,
   "metadata": {},
   "outputs": [
    {
     "data": {
      "text/plain": [
       "1998"
      ]
     },
     "execution_count": 33,
     "metadata": {},
     "output_type": "execute_result"
    }
   ],
   "source": [
    "(df[df['Cost_For_two'] <200].shape)[0]"
   ]
  },
  {
   "cell_type": "code",
   "execution_count": 34,
   "metadata": {},
   "outputs": [],
   "source": [
    "df = df[df['Cost_For_two'] >100]"
   ]
  },
  {
   "cell_type": "code",
   "execution_count": 35,
   "metadata": {},
   "outputs": [
    {
     "data": {
      "text/plain": [
       "58"
      ]
     },
     "execution_count": 35,
     "metadata": {},
     "output_type": "execute_result"
    }
   ],
   "source": [
    "df[\"approx_cost(for two people)\"].nunique()"
   ]
  },
  {
   "cell_type": "code",
   "execution_count": 36,
   "metadata": {},
   "outputs": [],
   "source": [
    "cost =df[\"Cost_For_two\"].unique()"
   ]
  },
  {
   "cell_type": "code",
   "execution_count": 37,
   "metadata": {},
   "outputs": [
    {
     "data": {
      "text/plain": [
       "array([ 800,  300,  600,  700,  550,  500,  450,  650,  400,  900,  200,\n",
       "        750,  150,  850, 1200,  350,  250,  950, 1000, 1500, 1300,  199,\n",
       "       1100, 1600,  230,  130, 1700, 1350, 2200, 1400, 2000, 1800, 1900,\n",
       "        180,  330, 2500, 2100, 3000, 2800, 3400, 1250, 3500, 4000, 2400,\n",
       "       2600, 1450, 3200,  240, 6000, 1050, 2300, 4100,  120, 5000, 3700,\n",
       "       1650, 2700, 4500])"
      ]
     },
     "execution_count": 37,
     "metadata": {},
     "output_type": "execute_result"
    }
   ],
   "source": [
    "cost"
   ]
  },
  {
   "cell_type": "code",
   "execution_count": 38,
   "metadata": {},
   "outputs": [
    {
     "data": {
      "text/plain": [
       "Index(['_id', 'name', 'approx_cost(for two people)', 'rate', 'reviews_list',\n",
       "       'cuisines', 'rating', 'Cost_For_two'],\n",
       "      dtype='object')"
      ]
     },
     "execution_count": 38,
     "metadata": {},
     "output_type": "execute_result"
    }
   ],
   "source": [
    "df.columns"
   ]
  },
  {
   "cell_type": "code",
   "execution_count": 39,
   "metadata": {},
   "outputs": [],
   "source": [
    "# Exclude specific columns\n",
    "df = df.drop(columns=['approx_cost(for two people)', 'rate'])\n"
   ]
  },
  {
   "cell_type": "code",
   "execution_count": 40,
   "metadata": {},
   "outputs": [
    {
     "data": {
      "text/html": [
       "<div>\n",
       "<style scoped>\n",
       "    .dataframe tbody tr th:only-of-type {\n",
       "        vertical-align: middle;\n",
       "    }\n",
       "\n",
       "    .dataframe tbody tr th {\n",
       "        vertical-align: top;\n",
       "    }\n",
       "\n",
       "    .dataframe thead th {\n",
       "        text-align: right;\n",
       "    }\n",
       "</style>\n",
       "<table border=\"1\" class=\"dataframe\">\n",
       "  <thead>\n",
       "    <tr style=\"text-align: right;\">\n",
       "      <th></th>\n",
       "      <th>_id</th>\n",
       "      <th>name</th>\n",
       "      <th>reviews_list</th>\n",
       "      <th>cuisines</th>\n",
       "      <th>rating</th>\n",
       "      <th>Cost_For_two</th>\n",
       "    </tr>\n",
       "  </thead>\n",
       "  <tbody>\n",
       "    <tr>\n",
       "      <th>0</th>\n",
       "      <td>671740a9ca8d0b834008d7b2</td>\n",
       "      <td>Jalsa</td>\n",
       "      <td>[('Rated 4.0', 'RATED\\n  A beautiful place to ...</td>\n",
       "      <td>North Indian, Mughlai, Chinese</td>\n",
       "      <td>4.1</td>\n",
       "      <td>800</td>\n",
       "    </tr>\n",
       "    <tr>\n",
       "      <th>1</th>\n",
       "      <td>671740a9ca8d0b834008d7b3</td>\n",
       "      <td>Spice Elephant</td>\n",
       "      <td>[('Rated 4.0', 'RATED\\n  Had been here for din...</td>\n",
       "      <td>Chinese, North Indian, Thai</td>\n",
       "      <td>4.1</td>\n",
       "      <td>800</td>\n",
       "    </tr>\n",
       "    <tr>\n",
       "      <th>2</th>\n",
       "      <td>671740a9ca8d0b834008d7b4</td>\n",
       "      <td>San Churro Cafe</td>\n",
       "      <td>[('Rated 3.0', \"RATED\\n  Ambience is not that ...</td>\n",
       "      <td>Cafe, Mexican, Italian</td>\n",
       "      <td>3.8</td>\n",
       "      <td>800</td>\n",
       "    </tr>\n",
       "    <tr>\n",
       "      <th>3</th>\n",
       "      <td>671740a9ca8d0b834008d7b5</td>\n",
       "      <td>Addhuri Udupi Bhojana</td>\n",
       "      <td>[('Rated 4.0', \"RATED\\n  Great food and proper...</td>\n",
       "      <td>South Indian, North Indian</td>\n",
       "      <td>3.7</td>\n",
       "      <td>300</td>\n",
       "    </tr>\n",
       "    <tr>\n",
       "      <th>4</th>\n",
       "      <td>671740a9ca8d0b834008d7b6</td>\n",
       "      <td>Grand Village</td>\n",
       "      <td>[('Rated 4.0', 'RATED\\n  Very good restaurant ...</td>\n",
       "      <td>North Indian, Rajasthani</td>\n",
       "      <td>3.8</td>\n",
       "      <td>600</td>\n",
       "    </tr>\n",
       "    <tr>\n",
       "      <th>...</th>\n",
       "      <td>...</td>\n",
       "      <td>...</td>\n",
       "      <td>...</td>\n",
       "      <td>...</td>\n",
       "      <td>...</td>\n",
       "      <td>...</td>\n",
       "    </tr>\n",
       "    <tr>\n",
       "      <th>51709</th>\n",
       "      <td>671740aaca8d0b834009a1af</td>\n",
       "      <td>The Farm House Bar n Grill</td>\n",
       "      <td>[('Rated 4.0', 'RATED\\n  Ambience- Big and spa...</td>\n",
       "      <td>North Indian, Continental</td>\n",
       "      <td>3.7</td>\n",
       "      <td>800</td>\n",
       "    </tr>\n",
       "    <tr>\n",
       "      <th>51711</th>\n",
       "      <td>671740aaca8d0b834009a1b1</td>\n",
       "      <td>Bhagini</td>\n",
       "      <td>[('Rated 4.0', 'RATED\\n  A fine place to chill...</td>\n",
       "      <td>Andhra, South Indian, Chinese, North Indian</td>\n",
       "      <td>2.5</td>\n",
       "      <td>800</td>\n",
       "    </tr>\n",
       "    <tr>\n",
       "      <th>51712</th>\n",
       "      <td>671740aaca8d0b834009a1b2</td>\n",
       "      <td>Best Brews - Four Points by Sheraton Bengaluru...</td>\n",
       "      <td>[('Rated 5.0', \"RATED\\n  Food and service are ...</td>\n",
       "      <td>Continental</td>\n",
       "      <td>3.6</td>\n",
       "      <td>1500</td>\n",
       "    </tr>\n",
       "    <tr>\n",
       "      <th>51715</th>\n",
       "      <td>671740aaca8d0b834009a1b5</td>\n",
       "      <td>Chime - Sheraton Grand Bengaluru Whitefield Ho...</td>\n",
       "      <td>[('Rated 4.0', 'RATED\\n  Nice and friendly pla...</td>\n",
       "      <td>Finger Food</td>\n",
       "      <td>4.3</td>\n",
       "      <td>2500</td>\n",
       "    </tr>\n",
       "    <tr>\n",
       "      <th>51716</th>\n",
       "      <td>671740aaca8d0b834009a1b6</td>\n",
       "      <td>The Nest - The Den Bengaluru</td>\n",
       "      <td>[('Rated 5.0', 'RATED\\n  Great ambience , look...</td>\n",
       "      <td>Finger Food, North Indian, Continental</td>\n",
       "      <td>3.4</td>\n",
       "      <td>1500</td>\n",
       "    </tr>\n",
       "  </tbody>\n",
       "</table>\n",
       "<p>40764 rows × 6 columns</p>\n",
       "</div>"
      ],
      "text/plain": [
       "                            _id  \\\n",
       "0      671740a9ca8d0b834008d7b2   \n",
       "1      671740a9ca8d0b834008d7b3   \n",
       "2      671740a9ca8d0b834008d7b4   \n",
       "3      671740a9ca8d0b834008d7b5   \n",
       "4      671740a9ca8d0b834008d7b6   \n",
       "...                         ...   \n",
       "51709  671740aaca8d0b834009a1af   \n",
       "51711  671740aaca8d0b834009a1b1   \n",
       "51712  671740aaca8d0b834009a1b2   \n",
       "51715  671740aaca8d0b834009a1b5   \n",
       "51716  671740aaca8d0b834009a1b6   \n",
       "\n",
       "                                                    name  \\\n",
       "0                                                  Jalsa   \n",
       "1                                         Spice Elephant   \n",
       "2                                        San Churro Cafe   \n",
       "3                                  Addhuri Udupi Bhojana   \n",
       "4                                          Grand Village   \n",
       "...                                                  ...   \n",
       "51709                         The Farm House Bar n Grill   \n",
       "51711                                            Bhagini   \n",
       "51712  Best Brews - Four Points by Sheraton Bengaluru...   \n",
       "51715  Chime - Sheraton Grand Bengaluru Whitefield Ho...   \n",
       "51716                       The Nest - The Den Bengaluru   \n",
       "\n",
       "                                            reviews_list  \\\n",
       "0      [('Rated 4.0', 'RATED\\n  A beautiful place to ...   \n",
       "1      [('Rated 4.0', 'RATED\\n  Had been here for din...   \n",
       "2      [('Rated 3.0', \"RATED\\n  Ambience is not that ...   \n",
       "3      [('Rated 4.0', \"RATED\\n  Great food and proper...   \n",
       "4      [('Rated 4.0', 'RATED\\n  Very good restaurant ...   \n",
       "...                                                  ...   \n",
       "51709  [('Rated 4.0', 'RATED\\n  Ambience- Big and spa...   \n",
       "51711  [('Rated 4.0', 'RATED\\n  A fine place to chill...   \n",
       "51712  [('Rated 5.0', \"RATED\\n  Food and service are ...   \n",
       "51715  [('Rated 4.0', 'RATED\\n  Nice and friendly pla...   \n",
       "51716  [('Rated 5.0', 'RATED\\n  Great ambience , look...   \n",
       "\n",
       "                                          cuisines  rating  Cost_For_two  \n",
       "0                   North Indian, Mughlai, Chinese     4.1           800  \n",
       "1                      Chinese, North Indian, Thai     4.1           800  \n",
       "2                           Cafe, Mexican, Italian     3.8           800  \n",
       "3                       South Indian, North Indian     3.7           300  \n",
       "4                         North Indian, Rajasthani     3.8           600  \n",
       "...                                            ...     ...           ...  \n",
       "51709                    North Indian, Continental     3.7           800  \n",
       "51711  Andhra, South Indian, Chinese, North Indian     2.5           800  \n",
       "51712                                  Continental     3.6          1500  \n",
       "51715                                  Finger Food     4.3          2500  \n",
       "51716       Finger Food, North Indian, Continental     3.4          1500  \n",
       "\n",
       "[40764 rows x 6 columns]"
      ]
     },
     "execution_count": 40,
     "metadata": {},
     "output_type": "execute_result"
    }
   ],
   "source": [
    "df"
   ]
  },
  {
   "cell_type": "markdown",
   "metadata": {},
   "source": [
    "## Normalizing the Name , cuisine columns and creating Cuisine_Count\n"
   ]
  },
  {
   "cell_type": "code",
   "execution_count": 41,
   "metadata": {},
   "outputs": [],
   "source": [
    "\n",
    "# Specify the columns you want to normalize\n",
    "columns_to_normalize = ['name', 'cuisines']\n",
    "\n",
    "# Convert specified columns to lowercase\n",
    "for col in columns_to_normalize:\n",
    "    df[col] = df[col].str.lower()\n",
    "\n",
    "\n"
   ]
  },
  {
   "cell_type": "code",
   "execution_count": 42,
   "metadata": {},
   "outputs": [
    {
     "data": {
      "text/html": [
       "<div>\n",
       "<style scoped>\n",
       "    .dataframe tbody tr th:only-of-type {\n",
       "        vertical-align: middle;\n",
       "    }\n",
       "\n",
       "    .dataframe tbody tr th {\n",
       "        vertical-align: top;\n",
       "    }\n",
       "\n",
       "    .dataframe thead th {\n",
       "        text-align: right;\n",
       "    }\n",
       "</style>\n",
       "<table border=\"1\" class=\"dataframe\">\n",
       "  <thead>\n",
       "    <tr style=\"text-align: right;\">\n",
       "      <th></th>\n",
       "      <th>_id</th>\n",
       "      <th>name</th>\n",
       "      <th>reviews_list</th>\n",
       "      <th>cuisines</th>\n",
       "      <th>rating</th>\n",
       "      <th>Cost_For_two</th>\n",
       "      <th>Cuisine_Count</th>\n",
       "    </tr>\n",
       "  </thead>\n",
       "  <tbody>\n",
       "    <tr>\n",
       "      <th>0</th>\n",
       "      <td>671740a9ca8d0b834008d7b2</td>\n",
       "      <td>jalsa</td>\n",
       "      <td>[('Rated 4.0', 'RATED\\n  A beautiful place to ...</td>\n",
       "      <td>north indian, mughlai, chinese</td>\n",
       "      <td>4.1</td>\n",
       "      <td>800</td>\n",
       "      <td>3</td>\n",
       "    </tr>\n",
       "    <tr>\n",
       "      <th>1</th>\n",
       "      <td>671740a9ca8d0b834008d7b3</td>\n",
       "      <td>spice elephant</td>\n",
       "      <td>[('Rated 4.0', 'RATED\\n  Had been here for din...</td>\n",
       "      <td>chinese, north indian, thai</td>\n",
       "      <td>4.1</td>\n",
       "      <td>800</td>\n",
       "      <td>3</td>\n",
       "    </tr>\n",
       "    <tr>\n",
       "      <th>2</th>\n",
       "      <td>671740a9ca8d0b834008d7b4</td>\n",
       "      <td>san churro cafe</td>\n",
       "      <td>[('Rated 3.0', \"RATED\\n  Ambience is not that ...</td>\n",
       "      <td>cafe, mexican, italian</td>\n",
       "      <td>3.8</td>\n",
       "      <td>800</td>\n",
       "      <td>3</td>\n",
       "    </tr>\n",
       "    <tr>\n",
       "      <th>3</th>\n",
       "      <td>671740a9ca8d0b834008d7b5</td>\n",
       "      <td>addhuri udupi bhojana</td>\n",
       "      <td>[('Rated 4.0', \"RATED\\n  Great food and proper...</td>\n",
       "      <td>south indian, north indian</td>\n",
       "      <td>3.7</td>\n",
       "      <td>300</td>\n",
       "      <td>2</td>\n",
       "    </tr>\n",
       "    <tr>\n",
       "      <th>4</th>\n",
       "      <td>671740a9ca8d0b834008d7b6</td>\n",
       "      <td>grand village</td>\n",
       "      <td>[('Rated 4.0', 'RATED\\n  Very good restaurant ...</td>\n",
       "      <td>north indian, rajasthani</td>\n",
       "      <td>3.8</td>\n",
       "      <td>600</td>\n",
       "      <td>2</td>\n",
       "    </tr>\n",
       "    <tr>\n",
       "      <th>...</th>\n",
       "      <td>...</td>\n",
       "      <td>...</td>\n",
       "      <td>...</td>\n",
       "      <td>...</td>\n",
       "      <td>...</td>\n",
       "      <td>...</td>\n",
       "      <td>...</td>\n",
       "    </tr>\n",
       "    <tr>\n",
       "      <th>51709</th>\n",
       "      <td>671740aaca8d0b834009a1af</td>\n",
       "      <td>the farm house bar n grill</td>\n",
       "      <td>[('Rated 4.0', 'RATED\\n  Ambience- Big and spa...</td>\n",
       "      <td>north indian, continental</td>\n",
       "      <td>3.7</td>\n",
       "      <td>800</td>\n",
       "      <td>2</td>\n",
       "    </tr>\n",
       "    <tr>\n",
       "      <th>51711</th>\n",
       "      <td>671740aaca8d0b834009a1b1</td>\n",
       "      <td>bhagini</td>\n",
       "      <td>[('Rated 4.0', 'RATED\\n  A fine place to chill...</td>\n",
       "      <td>andhra, south indian, chinese, north indian</td>\n",
       "      <td>2.5</td>\n",
       "      <td>800</td>\n",
       "      <td>4</td>\n",
       "    </tr>\n",
       "    <tr>\n",
       "      <th>51712</th>\n",
       "      <td>671740aaca8d0b834009a1b2</td>\n",
       "      <td>best brews - four points by sheraton bengaluru...</td>\n",
       "      <td>[('Rated 5.0', \"RATED\\n  Food and service are ...</td>\n",
       "      <td>continental</td>\n",
       "      <td>3.6</td>\n",
       "      <td>1500</td>\n",
       "      <td>1</td>\n",
       "    </tr>\n",
       "    <tr>\n",
       "      <th>51715</th>\n",
       "      <td>671740aaca8d0b834009a1b5</td>\n",
       "      <td>chime - sheraton grand bengaluru whitefield ho...</td>\n",
       "      <td>[('Rated 4.0', 'RATED\\n  Nice and friendly pla...</td>\n",
       "      <td>finger food</td>\n",
       "      <td>4.3</td>\n",
       "      <td>2500</td>\n",
       "      <td>1</td>\n",
       "    </tr>\n",
       "    <tr>\n",
       "      <th>51716</th>\n",
       "      <td>671740aaca8d0b834009a1b6</td>\n",
       "      <td>the nest - the den bengaluru</td>\n",
       "      <td>[('Rated 5.0', 'RATED\\n  Great ambience , look...</td>\n",
       "      <td>finger food, north indian, continental</td>\n",
       "      <td>3.4</td>\n",
       "      <td>1500</td>\n",
       "      <td>3</td>\n",
       "    </tr>\n",
       "  </tbody>\n",
       "</table>\n",
       "<p>40764 rows × 7 columns</p>\n",
       "</div>"
      ],
      "text/plain": [
       "                            _id  \\\n",
       "0      671740a9ca8d0b834008d7b2   \n",
       "1      671740a9ca8d0b834008d7b3   \n",
       "2      671740a9ca8d0b834008d7b4   \n",
       "3      671740a9ca8d0b834008d7b5   \n",
       "4      671740a9ca8d0b834008d7b6   \n",
       "...                         ...   \n",
       "51709  671740aaca8d0b834009a1af   \n",
       "51711  671740aaca8d0b834009a1b1   \n",
       "51712  671740aaca8d0b834009a1b2   \n",
       "51715  671740aaca8d0b834009a1b5   \n",
       "51716  671740aaca8d0b834009a1b6   \n",
       "\n",
       "                                                    name  \\\n",
       "0                                                  jalsa   \n",
       "1                                         spice elephant   \n",
       "2                                        san churro cafe   \n",
       "3                                  addhuri udupi bhojana   \n",
       "4                                          grand village   \n",
       "...                                                  ...   \n",
       "51709                         the farm house bar n grill   \n",
       "51711                                            bhagini   \n",
       "51712  best brews - four points by sheraton bengaluru...   \n",
       "51715  chime - sheraton grand bengaluru whitefield ho...   \n",
       "51716                       the nest - the den bengaluru   \n",
       "\n",
       "                                            reviews_list  \\\n",
       "0      [('Rated 4.0', 'RATED\\n  A beautiful place to ...   \n",
       "1      [('Rated 4.0', 'RATED\\n  Had been here for din...   \n",
       "2      [('Rated 3.0', \"RATED\\n  Ambience is not that ...   \n",
       "3      [('Rated 4.0', \"RATED\\n  Great food and proper...   \n",
       "4      [('Rated 4.0', 'RATED\\n  Very good restaurant ...   \n",
       "...                                                  ...   \n",
       "51709  [('Rated 4.0', 'RATED\\n  Ambience- Big and spa...   \n",
       "51711  [('Rated 4.0', 'RATED\\n  A fine place to chill...   \n",
       "51712  [('Rated 5.0', \"RATED\\n  Food and service are ...   \n",
       "51715  [('Rated 4.0', 'RATED\\n  Nice and friendly pla...   \n",
       "51716  [('Rated 5.0', 'RATED\\n  Great ambience , look...   \n",
       "\n",
       "                                          cuisines  rating  Cost_For_two  \\\n",
       "0                   north indian, mughlai, chinese     4.1           800   \n",
       "1                      chinese, north indian, thai     4.1           800   \n",
       "2                           cafe, mexican, italian     3.8           800   \n",
       "3                       south indian, north indian     3.7           300   \n",
       "4                         north indian, rajasthani     3.8           600   \n",
       "...                                            ...     ...           ...   \n",
       "51709                    north indian, continental     3.7           800   \n",
       "51711  andhra, south indian, chinese, north indian     2.5           800   \n",
       "51712                                  continental     3.6          1500   \n",
       "51715                                  finger food     4.3          2500   \n",
       "51716       finger food, north indian, continental     3.4          1500   \n",
       "\n",
       "       Cuisine_Count  \n",
       "0                  3  \n",
       "1                  3  \n",
       "2                  3  \n",
       "3                  2  \n",
       "4                  2  \n",
       "...              ...  \n",
       "51709              2  \n",
       "51711              4  \n",
       "51712              1  \n",
       "51715              1  \n",
       "51716              3  \n",
       "\n",
       "[40764 rows x 7 columns]"
      ]
     },
     "execution_count": 42,
     "metadata": {},
     "output_type": "execute_result"
    }
   ],
   "source": [
    "# Handle None values by applying a condition\n",
    "df['Cuisine_Count'] = df['cuisines'].apply(lambda x: len(x.split(',')) if isinstance(x, str) else 0)\n",
    "\n",
    "df"
   ]
  },
  {
   "cell_type": "code",
   "execution_count": 43,
   "metadata": {},
   "outputs": [
    {
     "data": {
      "text/plain": [
       "_id                                       671740a9ca8d0b834008d7e9\n",
       "name                                                     freshmenu\n",
       "reviews_list     [('Rated 5.0', 'RATED\\n  What: continental foo...\n",
       "cuisines         healthy food, chinese, biryani, north indian, ...\n",
       "rating                                                         3.9\n",
       "Cost_For_two                                                   450\n",
       "Cuisine_Count                                                    8\n",
       "Name: 55, dtype: object"
      ]
     },
     "execution_count": 43,
     "metadata": {},
     "output_type": "execute_result"
    }
   ],
   "source": [
    "# Find the row with the maximum number of cuisines\n",
    "max_cuisine_row = df.loc[df['Cuisine_Count'].idxmax()]\n",
    "max_cuisine_row"
   ]
  },
  {
   "cell_type": "code",
   "execution_count": 44,
   "metadata": {},
   "outputs": [
    {
     "data": {
      "text/plain": [
       "_id                                       671740a9ca8d0b834008f299\n",
       "name                                                  noodle oodle\n",
       "reviews_list     [('Rated 4.0', 'RATED\\n  Lil oily else good'),...\n",
       "cuisines                                                      None\n",
       "rating                                                         3.6\n",
       "Cost_For_two                                                   400\n",
       "Cuisine_Count                                                    0\n",
       "Name: 6887, dtype: object"
      ]
     },
     "execution_count": 44,
     "metadata": {},
     "output_type": "execute_result"
    }
   ],
   "source": [
    "# Find the row with the maximum number of cuisines\n",
    "min_cuisine_row = df.loc[df['Cuisine_Count'].idxmin()]\n",
    "min_cuisine_row"
   ]
  },
  {
   "cell_type": "code",
   "execution_count": 61,
   "metadata": {},
   "outputs": [
    {
     "data": {
      "text/plain": [
       "6"
      ]
     },
     "execution_count": 61,
     "metadata": {},
     "output_type": "execute_result"
    }
   ],
   "source": [
    "# Six hotels with 0 cuisines\n",
    "(df[df['Cuisine_Count'] ==0].shape)[0]"
   ]
  },
  {
   "cell_type": "code",
   "execution_count": 62,
   "metadata": {},
   "outputs": [
    {
     "data": {
      "text/html": [
       "<div>\n",
       "<style scoped>\n",
       "    .dataframe tbody tr th:only-of-type {\n",
       "        vertical-align: middle;\n",
       "    }\n",
       "\n",
       "    .dataframe tbody tr th {\n",
       "        vertical-align: top;\n",
       "    }\n",
       "\n",
       "    .dataframe thead th {\n",
       "        text-align: right;\n",
       "    }\n",
       "</style>\n",
       "<table border=\"1\" class=\"dataframe\">\n",
       "  <thead>\n",
       "    <tr style=\"text-align: right;\">\n",
       "      <th></th>\n",
       "      <th>_id</th>\n",
       "      <th>name</th>\n",
       "      <th>reviews_list</th>\n",
       "      <th>cuisines</th>\n",
       "      <th>rating</th>\n",
       "      <th>Cost_For_two</th>\n",
       "      <th>Cuisine_Count</th>\n",
       "    </tr>\n",
       "  </thead>\n",
       "  <tbody>\n",
       "    <tr>\n",
       "      <th>6887</th>\n",
       "      <td>671740a9ca8d0b834008f299</td>\n",
       "      <td>noodle oodle</td>\n",
       "      <td>[('Rated 4.0', 'RATED\\n  Lil oily else good'),...</td>\n",
       "      <td>None</td>\n",
       "      <td>3.6</td>\n",
       "      <td>400</td>\n",
       "      <td>0</td>\n",
       "    </tr>\n",
       "    <tr>\n",
       "      <th>24725</th>\n",
       "      <td>671740aaca8d0b8340093847</td>\n",
       "      <td>swagatham rayalaseema ruchulu</td>\n",
       "      <td>[('Rated 1.0', \"RATED\\n  Mediocre!\\n\\nWe went ...</td>\n",
       "      <td>None</td>\n",
       "      <td>3.3</td>\n",
       "      <td>600</td>\n",
       "      <td>0</td>\n",
       "    </tr>\n",
       "    <tr>\n",
       "      <th>26186</th>\n",
       "      <td>671740aaca8d0b8340093dfc</td>\n",
       "      <td>swagatham rayalaseema ruchulu</td>\n",
       "      <td>[('Rated 1.0', \"RATED\\n  Mediocre!\\n\\nWe went ...</td>\n",
       "      <td>None</td>\n",
       "      <td>3.3</td>\n",
       "      <td>600</td>\n",
       "      <td>0</td>\n",
       "    </tr>\n",
       "    <tr>\n",
       "      <th>40625</th>\n",
       "      <td>671740aaca8d0b8340097663</td>\n",
       "      <td>noodle oodle</td>\n",
       "      <td>[('Rated 4.0', 'RATED\\n  Lil oily else good'),...</td>\n",
       "      <td>None</td>\n",
       "      <td>3.7</td>\n",
       "      <td>400</td>\n",
       "      <td>0</td>\n",
       "    </tr>\n",
       "    <tr>\n",
       "      <th>50355</th>\n",
       "      <td>671740aaca8d0b8340099c65</td>\n",
       "      <td>noodle oodle</td>\n",
       "      <td>[('Rated 4.0', 'RATED\\n  Lil oily else good'),...</td>\n",
       "      <td>None</td>\n",
       "      <td>3.7</td>\n",
       "      <td>400</td>\n",
       "      <td>0</td>\n",
       "    </tr>\n",
       "    <tr>\n",
       "      <th>50439</th>\n",
       "      <td>671740aaca8d0b8340099cb9</td>\n",
       "      <td>taste of chettinad</td>\n",
       "      <td>[('Rated 1.0', 'RATED\\n  The biryani was not e...</td>\n",
       "      <td>None</td>\n",
       "      <td>3.2</td>\n",
       "      <td>400</td>\n",
       "      <td>0</td>\n",
       "    </tr>\n",
       "  </tbody>\n",
       "</table>\n",
       "</div>"
      ],
      "text/plain": [
       "                            _id                           name  \\\n",
       "6887   671740a9ca8d0b834008f299                   noodle oodle   \n",
       "24725  671740aaca8d0b8340093847  swagatham rayalaseema ruchulu   \n",
       "26186  671740aaca8d0b8340093dfc  swagatham rayalaseema ruchulu   \n",
       "40625  671740aaca8d0b8340097663                   noodle oodle   \n",
       "50355  671740aaca8d0b8340099c65                   noodle oodle   \n",
       "50439  671740aaca8d0b8340099cb9             taste of chettinad   \n",
       "\n",
       "                                            reviews_list cuisines  rating  \\\n",
       "6887   [('Rated 4.0', 'RATED\\n  Lil oily else good'),...     None     3.6   \n",
       "24725  [('Rated 1.0', \"RATED\\n  Mediocre!\\n\\nWe went ...     None     3.3   \n",
       "26186  [('Rated 1.0', \"RATED\\n  Mediocre!\\n\\nWe went ...     None     3.3   \n",
       "40625  [('Rated 4.0', 'RATED\\n  Lil oily else good'),...     None     3.7   \n",
       "50355  [('Rated 4.0', 'RATED\\n  Lil oily else good'),...     None     3.7   \n",
       "50439  [('Rated 1.0', 'RATED\\n  The biryani was not e...     None     3.2   \n",
       "\n",
       "       Cost_For_two  Cuisine_Count  \n",
       "6887            400              0  \n",
       "24725           600              0  \n",
       "26186           600              0  \n",
       "40625           400              0  \n",
       "50355           400              0  \n",
       "50439           400              0  "
      ]
     },
     "execution_count": 62,
     "metadata": {},
     "output_type": "execute_result"
    }
   ],
   "source": [
    "df[df['Cuisine_Count'] ==0]"
   ]
  },
  {
   "cell_type": "code",
   "execution_count": 63,
   "metadata": {},
   "outputs": [
    {
     "data": {
      "text/plain": [
       "8455"
      ]
     },
     "execution_count": 63,
     "metadata": {},
     "output_type": "execute_result"
    }
   ],
   "source": [
    "# Six hotels with 0 cuisines\n",
    "(df[df['Cuisine_Count'] ==1].shape)[0]"
   ]
  },
  {
   "cell_type": "code",
   "execution_count": 64,
   "metadata": {},
   "outputs": [
    {
     "data": {
      "text/html": [
       "<div>\n",
       "<style scoped>\n",
       "    .dataframe tbody tr th:only-of-type {\n",
       "        vertical-align: middle;\n",
       "    }\n",
       "\n",
       "    .dataframe tbody tr th {\n",
       "        vertical-align: top;\n",
       "    }\n",
       "\n",
       "    .dataframe thead th {\n",
       "        text-align: right;\n",
       "    }\n",
       "</style>\n",
       "<table border=\"1\" class=\"dataframe\">\n",
       "  <thead>\n",
       "    <tr style=\"text-align: right;\">\n",
       "      <th></th>\n",
       "      <th>_id</th>\n",
       "      <th>name</th>\n",
       "      <th>reviews_list</th>\n",
       "      <th>cuisines</th>\n",
       "      <th>rating</th>\n",
       "      <th>Cost_For_two</th>\n",
       "      <th>Cuisine_Count</th>\n",
       "    </tr>\n",
       "  </thead>\n",
       "  <tbody>\n",
       "    <tr>\n",
       "      <th>5</th>\n",
       "      <td>671740a9ca8d0b834008d7b7</td>\n",
       "      <td>timepass dinner</td>\n",
       "      <td>[('Rated 3.0', 'RATED\\n  Food 3/5\\nAmbience 3/...</td>\n",
       "      <td>north indian</td>\n",
       "      <td>3.8</td>\n",
       "      <td>600</td>\n",
       "      <td>1</td>\n",
       "    </tr>\n",
       "    <tr>\n",
       "      <th>10</th>\n",
       "      <td>671740a9ca8d0b834008d7bc</td>\n",
       "      <td>cafãâãâãâãâãâãâãâãâ© down the a...</td>\n",
       "      <td>[('Rated 4.0', 'RATED\\n  We ended up here on a...</td>\n",
       "      <td>cafe</td>\n",
       "      <td>4.1</td>\n",
       "      <td>500</td>\n",
       "      <td>1</td>\n",
       "    </tr>\n",
       "    <tr>\n",
       "      <th>15</th>\n",
       "      <td>671740a9ca8d0b834008d7c1</td>\n",
       "      <td>cafe vivacity</td>\n",
       "      <td>[('Rated 2.0', 'RATED\\n  Not so good place as ...</td>\n",
       "      <td>cafe</td>\n",
       "      <td>3.8</td>\n",
       "      <td>650</td>\n",
       "      <td>1</td>\n",
       "    </tr>\n",
       "    <tr>\n",
       "      <th>24</th>\n",
       "      <td>671740a9ca8d0b834008d7ca</td>\n",
       "      <td>hide out cafe</td>\n",
       "      <td>[('Rated 4.0', 'RATED\\n  The food was quite go...</td>\n",
       "      <td>cafe</td>\n",
       "      <td>3.7</td>\n",
       "      <td>300</td>\n",
       "      <td>1</td>\n",
       "    </tr>\n",
       "    <tr>\n",
       "      <th>33</th>\n",
       "      <td>671740a9ca8d0b834008d7d3</td>\n",
       "      <td>ovenstory pizza</td>\n",
       "      <td>[('Rated 4.0', 'RATED\\n  Stumbled upon this on...</td>\n",
       "      <td>pizza</td>\n",
       "      <td>3.9</td>\n",
       "      <td>750</td>\n",
       "      <td>1</td>\n",
       "    </tr>\n",
       "    <tr>\n",
       "      <th>...</th>\n",
       "      <td>...</td>\n",
       "      <td>...</td>\n",
       "      <td>...</td>\n",
       "      <td>...</td>\n",
       "      <td>...</td>\n",
       "      <td>...</td>\n",
       "      <td>...</td>\n",
       "    </tr>\n",
       "    <tr>\n",
       "      <th>51681</th>\n",
       "      <td>671740aaca8d0b834009a193</td>\n",
       "      <td>chime - sheraton grand bengaluru whitefield ho...</td>\n",
       "      <td>[('Rated 4.0', 'RATED\\n  Nice and friendly pla...</td>\n",
       "      <td>finger food</td>\n",
       "      <td>4.3</td>\n",
       "      <td>2500</td>\n",
       "      <td>1</td>\n",
       "    </tr>\n",
       "    <tr>\n",
       "      <th>51683</th>\n",
       "      <td>671740aaca8d0b834009a195</td>\n",
       "      <td>alt</td>\n",
       "      <td>[('Rated 3.0', \"RATED\\n  It's a skydeck which ...</td>\n",
       "      <td>finger food</td>\n",
       "      <td>4.1</td>\n",
       "      <td>1900</td>\n",
       "      <td>1</td>\n",
       "    </tr>\n",
       "    <tr>\n",
       "      <th>51707</th>\n",
       "      <td>671740aaca8d0b834009a1ad</td>\n",
       "      <td>m bar - bengaluru marriott hotel whitefield</td>\n",
       "      <td>[('Rated 4.0', 'RATED\\n  Went there post dinne...</td>\n",
       "      <td>finger food</td>\n",
       "      <td>3.9</td>\n",
       "      <td>2000</td>\n",
       "      <td>1</td>\n",
       "    </tr>\n",
       "    <tr>\n",
       "      <th>51712</th>\n",
       "      <td>671740aaca8d0b834009a1b2</td>\n",
       "      <td>best brews - four points by sheraton bengaluru...</td>\n",
       "      <td>[('Rated 5.0', \"RATED\\n  Food and service are ...</td>\n",
       "      <td>continental</td>\n",
       "      <td>3.6</td>\n",
       "      <td>1500</td>\n",
       "      <td>1</td>\n",
       "    </tr>\n",
       "    <tr>\n",
       "      <th>51715</th>\n",
       "      <td>671740aaca8d0b834009a1b5</td>\n",
       "      <td>chime - sheraton grand bengaluru whitefield ho...</td>\n",
       "      <td>[('Rated 4.0', 'RATED\\n  Nice and friendly pla...</td>\n",
       "      <td>finger food</td>\n",
       "      <td>4.3</td>\n",
       "      <td>2500</td>\n",
       "      <td>1</td>\n",
       "    </tr>\n",
       "  </tbody>\n",
       "</table>\n",
       "<p>8455 rows × 7 columns</p>\n",
       "</div>"
      ],
      "text/plain": [
       "                            _id  \\\n",
       "5      671740a9ca8d0b834008d7b7   \n",
       "10     671740a9ca8d0b834008d7bc   \n",
       "15     671740a9ca8d0b834008d7c1   \n",
       "24     671740a9ca8d0b834008d7ca   \n",
       "33     671740a9ca8d0b834008d7d3   \n",
       "...                         ...   \n",
       "51681  671740aaca8d0b834009a193   \n",
       "51683  671740aaca8d0b834009a195   \n",
       "51707  671740aaca8d0b834009a1ad   \n",
       "51712  671740aaca8d0b834009a1b2   \n",
       "51715  671740aaca8d0b834009a1b5   \n",
       "\n",
       "                                                    name  \\\n",
       "5                                        timepass dinner   \n",
       "10     cafãâãâãâãâãâãâãâãâ© down the a...   \n",
       "15                                         cafe vivacity   \n",
       "24                                         hide out cafe   \n",
       "33                                       ovenstory pizza   \n",
       "...                                                  ...   \n",
       "51681  chime - sheraton grand bengaluru whitefield ho...   \n",
       "51683                                                alt   \n",
       "51707        m bar - bengaluru marriott hotel whitefield   \n",
       "51712  best brews - four points by sheraton bengaluru...   \n",
       "51715  chime - sheraton grand bengaluru whitefield ho...   \n",
       "\n",
       "                                            reviews_list      cuisines  \\\n",
       "5      [('Rated 3.0', 'RATED\\n  Food 3/5\\nAmbience 3/...  north indian   \n",
       "10     [('Rated 4.0', 'RATED\\n  We ended up here on a...          cafe   \n",
       "15     [('Rated 2.0', 'RATED\\n  Not so good place as ...          cafe   \n",
       "24     [('Rated 4.0', 'RATED\\n  The food was quite go...          cafe   \n",
       "33     [('Rated 4.0', 'RATED\\n  Stumbled upon this on...         pizza   \n",
       "...                                                  ...           ...   \n",
       "51681  [('Rated 4.0', 'RATED\\n  Nice and friendly pla...   finger food   \n",
       "51683  [('Rated 3.0', \"RATED\\n  It's a skydeck which ...   finger food   \n",
       "51707  [('Rated 4.0', 'RATED\\n  Went there post dinne...   finger food   \n",
       "51712  [('Rated 5.0', \"RATED\\n  Food and service are ...   continental   \n",
       "51715  [('Rated 4.0', 'RATED\\n  Nice and friendly pla...   finger food   \n",
       "\n",
       "       rating  Cost_For_two  Cuisine_Count  \n",
       "5         3.8           600              1  \n",
       "10        4.1           500              1  \n",
       "15        3.8           650              1  \n",
       "24        3.7           300              1  \n",
       "33        3.9           750              1  \n",
       "...       ...           ...            ...  \n",
       "51681     4.3          2500              1  \n",
       "51683     4.1          1900              1  \n",
       "51707     3.9          2000              1  \n",
       "51712     3.6          1500              1  \n",
       "51715     4.3          2500              1  \n",
       "\n",
       "[8455 rows x 7 columns]"
      ]
     },
     "execution_count": 64,
     "metadata": {},
     "output_type": "execute_result"
    }
   ],
   "source": [
    "df[df['Cuisine_Count'] ==1]"
   ]
  },
  {
   "cell_type": "code",
   "execution_count": null,
   "metadata": {},
   "outputs": [],
   "source": []
  },
  {
   "cell_type": "code",
   "execution_count": null,
   "metadata": {},
   "outputs": [],
   "source": []
  },
  {
   "cell_type": "code",
   "execution_count": null,
   "metadata": {},
   "outputs": [],
   "source": []
  },
  {
   "cell_type": "code",
   "execution_count": null,
   "metadata": {},
   "outputs": [],
   "source": []
  },
  {
   "cell_type": "code",
   "execution_count": null,
   "metadata": {},
   "outputs": [],
   "source": []
  },
  {
   "cell_type": "code",
   "execution_count": null,
   "metadata": {},
   "outputs": [],
   "source": []
  },
  {
   "cell_type": "code",
   "execution_count": null,
   "metadata": {},
   "outputs": [],
   "source": []
  },
  {
   "cell_type": "code",
   "execution_count": 1,
   "metadata": {},
   "outputs": [
    {
     "name": "stdout",
     "output_type": "stream",
     "text": [
      "Collecting folium\n",
      "  Downloading folium-0.18.0-py2.py3-none-any.whl.metadata (3.8 kB)\n",
      "Collecting branca>=0.6.0 (from folium)\n",
      "  Downloading branca-0.8.0-py3-none-any.whl.metadata (1.5 kB)\n",
      "Requirement already satisfied: jinja2>=2.9 in /home/srinath2003/miniconda3/lib/python3.12/site-packages (from folium) (3.1.4)\n",
      "Requirement already satisfied: numpy in /home/srinath2003/miniconda3/lib/python3.12/site-packages (from folium) (1.26.4)\n",
      "Requirement already satisfied: requests in /home/srinath2003/miniconda3/lib/python3.12/site-packages (from folium) (2.32.3)\n",
      "Collecting xyzservices (from folium)\n",
      "  Downloading xyzservices-2024.9.0-py3-none-any.whl.metadata (4.1 kB)\n",
      "Requirement already satisfied: MarkupSafe>=2.0 in /home/srinath2003/miniconda3/lib/python3.12/site-packages (from jinja2>=2.9->folium) (2.1.3)\n",
      "Requirement already satisfied: charset-normalizer<4,>=2 in /home/srinath2003/miniconda3/lib/python3.12/site-packages (from requests->folium) (3.3.2)\n",
      "Requirement already satisfied: idna<4,>=2.5 in /home/srinath2003/miniconda3/lib/python3.12/site-packages (from requests->folium) (3.7)\n",
      "Requirement already satisfied: urllib3<3,>=1.21.1 in /home/srinath2003/miniconda3/lib/python3.12/site-packages (from requests->folium) (2.2.2)\n",
      "Requirement already satisfied: certifi>=2017.4.17 in /home/srinath2003/miniconda3/lib/python3.12/site-packages (from requests->folium) (2024.8.30)\n",
      "Downloading folium-0.18.0-py2.py3-none-any.whl (108 kB)\n",
      "Downloading branca-0.8.0-py3-none-any.whl (25 kB)\n",
      "Downloading xyzservices-2024.9.0-py3-none-any.whl (85 kB)\n",
      "Installing collected packages: xyzservices, branca, folium\n",
      "Successfully installed branca-0.8.0 folium-0.18.0 xyzservices-2024.9.0\n",
      "Note: you may need to restart the kernel to use updated packages.\n"
     ]
    }
   ],
   "source": [
    "pip install folium\n"
   ]
  },
  {
   "cell_type": "code",
   "execution_count": 2,
   "metadata": {},
   "outputs": [],
   "source": [
    "import folium\n",
    "\n",
    "# Coordinates for Bangalore (latitude and longitude)\n",
    "bangalore_coords = [12.9716, 77.5946]\n",
    "\n",
    "# Create a map centered on Bangalore\n",
    "bangalore_map = folium.Map(location=bangalore_coords, zoom_start=12)\n",
    "\n",
    "# Example: Add a marker for a specific location (like a street or area)\n",
    "folium.Marker([12.934533, 77.626579], popup=\"Koramangala\").add_to(bangalore_map)\n",
    "\n",
    "# Example: Draw a polygon for a particular area (let's assume it's a custom area)\n",
    "folium.Polygon(locations=[\n",
    "    [12.934533, 77.626579],\n",
    "    [12.940707, 77.622857],\n",
    "    [12.947403, 77.634372],\n",
    "    [12.943155, 77.640607]\n",
    "], color=\"blue\", weight=2.5, fill=True, fill_color=\"blue\", fill_opacity=0.5).add_to(bangalore_map)\n",
    "\n",
    "# Save the map to an HTML file\n",
    "bangalore_map.save(\"bangalore_map.html\")\n"
   ]
  },
  {
   "cell_type": "code",
   "execution_count": null,
   "metadata": {},
   "outputs": [],
   "source": []
  },
  {
   "cell_type": "code",
   "execution_count": null,
   "metadata": {},
   "outputs": [],
   "source": []
  },
  {
   "cell_type": "code",
   "execution_count": 46,
   "metadata": {},
   "outputs": [],
   "source": [
    "# zomato_real.to_csv('zomato_recommendation_data.csv',index=False)"
   ]
  },
  {
   "cell_type": "markdown",
   "metadata": {},
   "source": [
    "Now the next step is data cleaning and feature engineering for this step we need to do a lot of stuff with the data such as:\n",
    "\n",
    "    Deleting Unnecessary Columns\n",
    "    Removing the Duplicates\n",
    "    Remove the NaN values from the dataset\n",
    "    Changing the column names\n",
    "    Data Transformations\n",
    "    Data Cleaning\n",
    "    Adjust the column names Now, let’s perform all the above steps in our data"
   ]
  },
  {
   "cell_type": "code",
   "execution_count": 47,
   "metadata": {},
   "outputs": [],
   "source": [
    "#Deleting Unnnecessary Columns\n",
    "zomato=zomato_real.drop(['_id'],axis=1) #Dropping the column \"dish_liked\", \"phone\", \"url\" and saving the new dataset as \"zomato\"\n",
    "# zomato=zomato_real[['name','approx_cost(for two people)','rate','reviews_list','cuisines']]\n",
    "#Removing the Duplicates\n",
    "zomato.duplicated().sum()\n",
    "zomato.drop_duplicates(inplace=True)\n",
    "\n",
    "#Remove the NaN values from the dataset\n",
    "zomato.isnull().sum()\n",
    "zomato.dropna(how='any',inplace=True)"
   ]
  },
  {
   "cell_type": "code",
   "execution_count": 48,
   "metadata": {},
   "outputs": [
    {
     "data": {
      "text/html": [
       "<div>\n",
       "<style scoped>\n",
       "    .dataframe tbody tr th:only-of-type {\n",
       "        vertical-align: middle;\n",
       "    }\n",
       "\n",
       "    .dataframe tbody tr th {\n",
       "        vertical-align: top;\n",
       "    }\n",
       "\n",
       "    .dataframe thead th {\n",
       "        text-align: right;\n",
       "    }\n",
       "</style>\n",
       "<table border=\"1\" class=\"dataframe\">\n",
       "  <thead>\n",
       "    <tr style=\"text-align: right;\">\n",
       "      <th></th>\n",
       "      <th>name</th>\n",
       "      <th>approx_cost(for two people)</th>\n",
       "      <th>rate</th>\n",
       "      <th>reviews_list</th>\n",
       "      <th>cuisines</th>\n",
       "    </tr>\n",
       "  </thead>\n",
       "  <tbody>\n",
       "    <tr>\n",
       "      <th>0</th>\n",
       "      <td>Jalsa</td>\n",
       "      <td>800</td>\n",
       "      <td>4.1/5</td>\n",
       "      <td>[('Rated 4.0', 'RATED\\n  A beautiful place to ...</td>\n",
       "      <td>North Indian, Mughlai, Chinese</td>\n",
       "    </tr>\n",
       "    <tr>\n",
       "      <th>1</th>\n",
       "      <td>Spice Elephant</td>\n",
       "      <td>800</td>\n",
       "      <td>4.1/5</td>\n",
       "      <td>[('Rated 4.0', 'RATED\\n  Had been here for din...</td>\n",
       "      <td>Chinese, North Indian, Thai</td>\n",
       "    </tr>\n",
       "    <tr>\n",
       "      <th>2</th>\n",
       "      <td>San Churro Cafe</td>\n",
       "      <td>800</td>\n",
       "      <td>3.8/5</td>\n",
       "      <td>[('Rated 3.0', \"RATED\\n  Ambience is not that ...</td>\n",
       "      <td>Cafe, Mexican, Italian</td>\n",
       "    </tr>\n",
       "    <tr>\n",
       "      <th>3</th>\n",
       "      <td>Addhuri Udupi Bhojana</td>\n",
       "      <td>300</td>\n",
       "      <td>3.7/5</td>\n",
       "      <td>[('Rated 4.0', \"RATED\\n  Great food and proper...</td>\n",
       "      <td>South Indian, North Indian</td>\n",
       "    </tr>\n",
       "    <tr>\n",
       "      <th>4</th>\n",
       "      <td>Grand Village</td>\n",
       "      <td>600</td>\n",
       "      <td>3.8/5</td>\n",
       "      <td>[('Rated 4.0', 'RATED\\n  Very good restaurant ...</td>\n",
       "      <td>North Indian, Rajasthani</td>\n",
       "    </tr>\n",
       "    <tr>\n",
       "      <th>...</th>\n",
       "      <td>...</td>\n",
       "      <td>...</td>\n",
       "      <td>...</td>\n",
       "      <td>...</td>\n",
       "      <td>...</td>\n",
       "    </tr>\n",
       "    <tr>\n",
       "      <th>51699</th>\n",
       "      <td>Harry's Bar + Cafe</td>\n",
       "      <td>1,200</td>\n",
       "      <td>4.1 /5</td>\n",
       "      <td>[('Rated 4.0', 'RATED\\n  The first thing that ...</td>\n",
       "      <td>Asian, American, Mexican</td>\n",
       "    </tr>\n",
       "    <tr>\n",
       "      <th>51700</th>\n",
       "      <td>BAR BAR</td>\n",
       "      <td>1,500</td>\n",
       "      <td>4.1 /5</td>\n",
       "      <td>[('Rated 4.0', \"RATED\\n  In an increasingly ov...</td>\n",
       "      <td>Continental, North Indian, Italian</td>\n",
       "    </tr>\n",
       "    <tr>\n",
       "      <th>51701</th>\n",
       "      <td>The Beer Cafe</td>\n",
       "      <td>1,400</td>\n",
       "      <td>4.1 /5</td>\n",
       "      <td>[('Rated 2.0', \"RATED\\n  We went out to this p...</td>\n",
       "      <td>Finger Food, North Indian, Chinese, Italian</td>\n",
       "    </tr>\n",
       "    <tr>\n",
       "      <th>51702</th>\n",
       "      <td>Pablo's Gastrobar</td>\n",
       "      <td>1,450</td>\n",
       "      <td>4.0 /5</td>\n",
       "      <td>[('Rated 4.0', 'RATED\\n  A good place to dine....</td>\n",
       "      <td>Finger Food, American, Asian, Italian</td>\n",
       "    </tr>\n",
       "    <tr>\n",
       "      <th>51703</th>\n",
       "      <td>Oliver's Pub &amp; Diner</td>\n",
       "      <td>1,500</td>\n",
       "      <td>3.9 /5</td>\n",
       "      <td>[('Rated 4.0', \"RATED\\n  I had :-\\n\\n1. Italia...</td>\n",
       "      <td>Finger Food, American, Continental, Burger, Pizza</td>\n",
       "    </tr>\n",
       "  </tbody>\n",
       "</table>\n",
       "<p>25504 rows × 5 columns</p>\n",
       "</div>"
      ],
      "text/plain": [
       "                        name approx_cost(for two people)    rate  \\\n",
       "0                      Jalsa                         800   4.1/5   \n",
       "1             Spice Elephant                         800   4.1/5   \n",
       "2            San Churro Cafe                         800   3.8/5   \n",
       "3      Addhuri Udupi Bhojana                         300   3.7/5   \n",
       "4              Grand Village                         600   3.8/5   \n",
       "...                      ...                         ...     ...   \n",
       "51699     Harry's Bar + Cafe                       1,200  4.1 /5   \n",
       "51700                BAR BAR                       1,500  4.1 /5   \n",
       "51701          The Beer Cafe                       1,400  4.1 /5   \n",
       "51702      Pablo's Gastrobar                       1,450  4.0 /5   \n",
       "51703   Oliver's Pub & Diner                       1,500  3.9 /5   \n",
       "\n",
       "                                            reviews_list  \\\n",
       "0      [('Rated 4.0', 'RATED\\n  A beautiful place to ...   \n",
       "1      [('Rated 4.0', 'RATED\\n  Had been here for din...   \n",
       "2      [('Rated 3.0', \"RATED\\n  Ambience is not that ...   \n",
       "3      [('Rated 4.0', \"RATED\\n  Great food and proper...   \n",
       "4      [('Rated 4.0', 'RATED\\n  Very good restaurant ...   \n",
       "...                                                  ...   \n",
       "51699  [('Rated 4.0', 'RATED\\n  The first thing that ...   \n",
       "51700  [('Rated 4.0', \"RATED\\n  In an increasingly ov...   \n",
       "51701  [('Rated 2.0', \"RATED\\n  We went out to this p...   \n",
       "51702  [('Rated 4.0', 'RATED\\n  A good place to dine....   \n",
       "51703  [('Rated 4.0', \"RATED\\n  I had :-\\n\\n1. Italia...   \n",
       "\n",
       "                                                cuisines  \n",
       "0                         North Indian, Mughlai, Chinese  \n",
       "1                            Chinese, North Indian, Thai  \n",
       "2                                 Cafe, Mexican, Italian  \n",
       "3                             South Indian, North Indian  \n",
       "4                               North Indian, Rajasthani  \n",
       "...                                                  ...  \n",
       "51699                           Asian, American, Mexican  \n",
       "51700                 Continental, North Indian, Italian  \n",
       "51701        Finger Food, North Indian, Chinese, Italian  \n",
       "51702              Finger Food, American, Asian, Italian  \n",
       "51703  Finger Food, American, Continental, Burger, Pizza  \n",
       "\n",
       "[25504 rows x 5 columns]"
      ]
     },
     "execution_count": 48,
     "metadata": {},
     "output_type": "execute_result"
    }
   ],
   "source": [
    "zomato"
   ]
  },
  {
   "cell_type": "code",
   "execution_count": 49,
   "metadata": {},
   "outputs": [],
   "source": [
    "# Changing the column names\n",
    "zomato = zomato.rename(columns={'approx_cost(for two people)': 'cost'})\n",
    "\n",
    "# Some Transformations\n",
    "zomato['cost'] = zomato['cost'].astype(str)  # Changing the cost to string\n",
    "zomato['cost'] = zomato['cost'].apply(lambda x: x.replace(',', '.'))  # Using lambda function to replace ',' from cost\n",
    "zomato['cost'] = zomato['cost'].astype(float)\n",
    "\n",
    "# Removing '/5' from Rates\n",
    "zomato = zomato.loc[zomato.rate != 'NEW']\n",
    "zomato = zomato.loc[zomato.rate != '-'].reset_index(drop=True)\n",
    "\n",
    "# Update the remove_slash lambda function\n",
    "remove_slash = lambda x: x.replace('/5', '') if isinstance(x, str) else x\n",
    "zomato['rate'] = zomato['rate'].apply(remove_slash).str.strip().astype(float)\n",
    "\n",
    "# Adjust the column names\n",
    "zomato['name'] = zomato['name'].apply(lambda x: x.title())\n",
    "\n",
    "# Computing Mean Rating\n",
    "restaurants = list(zomato['name'].unique())\n",
    "zomato['Mean Rating'] = 0.0  # Initialize with float\n",
    "\n",
    "for i in range(len(restaurants)):\n",
    "    zomato['Mean Rating'][zomato['name'] == restaurants[i]] = zomato['rate'][zomato['name'] == restaurants[i]].mean()\n",
    "\n",
    "from sklearn.preprocessing import MinMaxScaler\n",
    "scaler = MinMaxScaler(feature_range=(1, 5))\n",
    "zomato[['Mean Rating']] = scaler.fit_transform(zomato[['Mean Rating']]).round(2)"
   ]
  },
  {
   "cell_type": "code",
   "execution_count": 50,
   "metadata": {},
   "outputs": [
    {
     "data": {
      "text/html": [
       "<div>\n",
       "<style scoped>\n",
       "    .dataframe tbody tr th:only-of-type {\n",
       "        vertical-align: middle;\n",
       "    }\n",
       "\n",
       "    .dataframe tbody tr th {\n",
       "        vertical-align: top;\n",
       "    }\n",
       "\n",
       "    .dataframe thead th {\n",
       "        text-align: right;\n",
       "    }\n",
       "</style>\n",
       "<table border=\"1\" class=\"dataframe\">\n",
       "  <thead>\n",
       "    <tr style=\"text-align: right;\">\n",
       "      <th></th>\n",
       "      <th>name</th>\n",
       "      <th>cost</th>\n",
       "      <th>rate</th>\n",
       "      <th>reviews_list</th>\n",
       "      <th>cuisines</th>\n",
       "      <th>Mean Rating</th>\n",
       "    </tr>\n",
       "  </thead>\n",
       "  <tbody>\n",
       "    <tr>\n",
       "      <th>0</th>\n",
       "      <td>Jalsa</td>\n",
       "      <td>800.0</td>\n",
       "      <td>4.1</td>\n",
       "      <td>[('Rated 4.0', 'RATED\\n  A beautiful place to ...</td>\n",
       "      <td>North Indian, Mughlai, Chinese</td>\n",
       "      <td>4.00</td>\n",
       "    </tr>\n",
       "    <tr>\n",
       "      <th>1</th>\n",
       "      <td>Spice Elephant</td>\n",
       "      <td>800.0</td>\n",
       "      <td>4.1</td>\n",
       "      <td>[('Rated 4.0', 'RATED\\n  Had been here for din...</td>\n",
       "      <td>Chinese, North Indian, Thai</td>\n",
       "      <td>3.97</td>\n",
       "    </tr>\n",
       "    <tr>\n",
       "      <th>2</th>\n",
       "      <td>San Churro Cafe</td>\n",
       "      <td>800.0</td>\n",
       "      <td>3.8</td>\n",
       "      <td>[('Rated 3.0', \"RATED\\n  Ambience is not that ...</td>\n",
       "      <td>Cafe, Mexican, Italian</td>\n",
       "      <td>3.58</td>\n",
       "    </tr>\n",
       "    <tr>\n",
       "      <th>3</th>\n",
       "      <td>Addhuri Udupi Bhojana</td>\n",
       "      <td>300.0</td>\n",
       "      <td>3.7</td>\n",
       "      <td>[('Rated 4.0', \"RATED\\n  Great food and proper...</td>\n",
       "      <td>South Indian, North Indian</td>\n",
       "      <td>3.45</td>\n",
       "    </tr>\n",
       "    <tr>\n",
       "      <th>4</th>\n",
       "      <td>Grand Village</td>\n",
       "      <td>600.0</td>\n",
       "      <td>3.8</td>\n",
       "      <td>[('Rated 4.0', 'RATED\\n  Very good restaurant ...</td>\n",
       "      <td>North Indian, Rajasthani</td>\n",
       "      <td>3.58</td>\n",
       "    </tr>\n",
       "  </tbody>\n",
       "</table>\n",
       "</div>"
      ],
      "text/plain": [
       "                    name   cost  rate  \\\n",
       "0                  Jalsa  800.0   4.1   \n",
       "1         Spice Elephant  800.0   4.1   \n",
       "2        San Churro Cafe  800.0   3.8   \n",
       "3  Addhuri Udupi Bhojana  300.0   3.7   \n",
       "4          Grand Village  600.0   3.8   \n",
       "\n",
       "                                        reviews_list  \\\n",
       "0  [('Rated 4.0', 'RATED\\n  A beautiful place to ...   \n",
       "1  [('Rated 4.0', 'RATED\\n  Had been here for din...   \n",
       "2  [('Rated 3.0', \"RATED\\n  Ambience is not that ...   \n",
       "3  [('Rated 4.0', \"RATED\\n  Great food and proper...   \n",
       "4  [('Rated 4.0', 'RATED\\n  Very good restaurant ...   \n",
       "\n",
       "                         cuisines  Mean Rating  \n",
       "0  North Indian, Mughlai, Chinese         4.00  \n",
       "1     Chinese, North Indian, Thai         3.97  \n",
       "2          Cafe, Mexican, Italian         3.58  \n",
       "3      South Indian, North Indian         3.45  \n",
       "4        North Indian, Rajasthani         3.58  "
      ]
     },
     "execution_count": 50,
     "metadata": {},
     "output_type": "execute_result"
    }
   ],
   "source": [
    "zomato.head()"
   ]
  },
  {
   "cell_type": "markdown",
   "metadata": {},
   "source": [
    "Now the next step is to perform some text preprocessing steps which include:\n",
    "\n",
    "    Lower casing\n",
    "    Removal of Punctuations\n",
    "    Removal of Stopwords\n",
    "    Removal of URLs\n",
    "    Spelling correction"
   ]
  },
  {
   "cell_type": "code",
   "execution_count": 51,
   "metadata": {},
   "outputs": [
    {
     "name": "stderr",
     "output_type": "stream",
     "text": [
      "[nltk_data] Downloading package stopwords to\n",
      "[nltk_data]     /home/srinath2003/nltk_data...\n",
      "[nltk_data]   Package stopwords is already up-to-date!\n"
     ]
    },
    {
     "data": {
      "text/plain": [
       "True"
      ]
     },
     "execution_count": 51,
     "metadata": {},
     "output_type": "execute_result"
    }
   ],
   "source": [
    "import nltk\n",
    "nltk.download('stopwords')\n"
   ]
  },
  {
   "cell_type": "code",
   "execution_count": 52,
   "metadata": {},
   "outputs": [
    {
     "data": {
      "text/html": [
       "<div>\n",
       "<style scoped>\n",
       "    .dataframe tbody tr th:only-of-type {\n",
       "        vertical-align: middle;\n",
       "    }\n",
       "\n",
       "    .dataframe tbody tr th {\n",
       "        vertical-align: top;\n",
       "    }\n",
       "\n",
       "    .dataframe thead th {\n",
       "        text-align: right;\n",
       "    }\n",
       "</style>\n",
       "<table border=\"1\" class=\"dataframe\">\n",
       "  <thead>\n",
       "    <tr style=\"text-align: right;\">\n",
       "      <th></th>\n",
       "      <th>reviews_list</th>\n",
       "      <th>cuisines</th>\n",
       "    </tr>\n",
       "  </thead>\n",
       "  <tbody>\n",
       "    <tr>\n",
       "      <th>11891</th>\n",
       "      <td>rated 20 ratedn menu differentthey dont hav pr...</td>\n",
       "      <td>North Indian, Chinese</td>\n",
       "    </tr>\n",
       "    <tr>\n",
       "      <th>5883</th>\n",
       "      <td>rated 40 ratedn 2012 first tried place till da...</td>\n",
       "      <td>Street Food, Mithai</td>\n",
       "    </tr>\n",
       "    <tr>\n",
       "      <th>8872</th>\n",
       "      <td>rated 50 ratedn another added feather indirana...</td>\n",
       "      <td>North Indian</td>\n",
       "    </tr>\n",
       "    <tr>\n",
       "      <th>8914</th>\n",
       "      <td>rated 50 ratedn mood spicy food wife suggested...</td>\n",
       "      <td>Andhra, Biryani, North Indian</td>\n",
       "    </tr>\n",
       "    <tr>\n",
       "      <th>11591</th>\n",
       "      <td>rated 50 ratedn awesome place come many times ...</td>\n",
       "      <td>Chinese, North Indian, Continental</td>\n",
       "    </tr>\n",
       "  </tbody>\n",
       "</table>\n",
       "</div>"
      ],
      "text/plain": [
       "                                            reviews_list  \\\n",
       "11891  rated 20 ratedn menu differentthey dont hav pr...   \n",
       "5883   rated 40 ratedn 2012 first tried place till da...   \n",
       "8872   rated 50 ratedn another added feather indirana...   \n",
       "8914   rated 50 ratedn mood spicy food wife suggested...   \n",
       "11591  rated 50 ratedn awesome place come many times ...   \n",
       "\n",
       "                                 cuisines  \n",
       "11891               North Indian, Chinese  \n",
       "5883                  Street Food, Mithai  \n",
       "8872                         North Indian  \n",
       "8914        Andhra, Biryani, North Indian  \n",
       "11591  Chinese, North Indian, Continental  "
      ]
     },
     "execution_count": 52,
     "metadata": {},
     "output_type": "execute_result"
    }
   ],
   "source": [
    "zomato[\"reviews_list\"] = zomato[\"reviews_list\"].str.lower()\n",
    "\n",
    "## Removal of Puctuations\n",
    "import string\n",
    "PUNCT_TO_REMOVE = string.punctuation\n",
    "def remove_punctuation(text):\n",
    "    \"\"\"custom function to remove the punctuation\"\"\"\n",
    "    return text.translate(str.maketrans('', '', PUNCT_TO_REMOVE))\n",
    "\n",
    "zomato[\"reviews_list\"] = zomato[\"reviews_list\"].apply(lambda text: remove_punctuation(text))\n",
    "\n",
    "## Removal of Stopwords\n",
    "from nltk.corpus import stopwords\n",
    "STOPWORDS = set(stopwords.words('english'))\n",
    "def remove_stopwords(text):\n",
    "    \"\"\"custom function to remove the stopwords\"\"\"\n",
    "    return \" \".join([word for word in str(text).split() if word not in STOPWORDS])\n",
    "\n",
    "zomato[\"reviews_list\"] = zomato[\"reviews_list\"].apply(lambda text: remove_stopwords(text))\n",
    "\n",
    "## Removal of URLS\n",
    "def remove_urls(text):\n",
    "    url_pattern = re.compile(r'https?://\\S+|www\\.\\S+')\n",
    "    return url_pattern.sub(r'', text)\n",
    "\n",
    "zomato[\"reviews_list\"] = zomato[\"reviews_list\"].apply(lambda text: remove_urls(text))\n",
    "\n",
    "zomato[['reviews_list', 'cuisines']].sample(5)\n"
   ]
  },
  {
   "cell_type": "code",
   "execution_count": 53,
   "metadata": {},
   "outputs": [
    {
     "data": {
      "text/html": [
       "<div>\n",
       "<style scoped>\n",
       "    .dataframe tbody tr th:only-of-type {\n",
       "        vertical-align: middle;\n",
       "    }\n",
       "\n",
       "    .dataframe tbody tr th {\n",
       "        vertical-align: top;\n",
       "    }\n",
       "\n",
       "    .dataframe thead th {\n",
       "        text-align: right;\n",
       "    }\n",
       "</style>\n",
       "<table border=\"1\" class=\"dataframe\">\n",
       "  <thead>\n",
       "    <tr style=\"text-align: right;\">\n",
       "      <th></th>\n",
       "      <th>name</th>\n",
       "      <th>cost</th>\n",
       "      <th>rate</th>\n",
       "      <th>reviews_list</th>\n",
       "      <th>cuisines</th>\n",
       "      <th>Mean Rating</th>\n",
       "    </tr>\n",
       "  </thead>\n",
       "  <tbody>\n",
       "    <tr>\n",
       "      <th>0</th>\n",
       "      <td>Jalsa</td>\n",
       "      <td>800.0</td>\n",
       "      <td>4.1</td>\n",
       "      <td>rated 40 ratedn beautiful place dine inthe int...</td>\n",
       "      <td>North Indian, Mughlai, Chinese</td>\n",
       "      <td>4.00</td>\n",
       "    </tr>\n",
       "    <tr>\n",
       "      <th>1</th>\n",
       "      <td>Spice Elephant</td>\n",
       "      <td>800.0</td>\n",
       "      <td>4.1</td>\n",
       "      <td>rated 40 ratedn dinner family turned good choo...</td>\n",
       "      <td>Chinese, North Indian, Thai</td>\n",
       "      <td>3.97</td>\n",
       "    </tr>\n",
       "    <tr>\n",
       "      <th>2</th>\n",
       "      <td>San Churro Cafe</td>\n",
       "      <td>800.0</td>\n",
       "      <td>3.8</td>\n",
       "      <td>rated 30 ratedn ambience good enough pocket fr...</td>\n",
       "      <td>Cafe, Mexican, Italian</td>\n",
       "      <td>3.58</td>\n",
       "    </tr>\n",
       "    <tr>\n",
       "      <th>3</th>\n",
       "      <td>Addhuri Udupi Bhojana</td>\n",
       "      <td>300.0</td>\n",
       "      <td>3.7</td>\n",
       "      <td>rated 40 ratedn great food proper karnataka st...</td>\n",
       "      <td>South Indian, North Indian</td>\n",
       "      <td>3.45</td>\n",
       "    </tr>\n",
       "    <tr>\n",
       "      <th>4</th>\n",
       "      <td>Grand Village</td>\n",
       "      <td>600.0</td>\n",
       "      <td>3.8</td>\n",
       "      <td>rated 40 ratedn good restaurant neighbourhood ...</td>\n",
       "      <td>North Indian, Rajasthani</td>\n",
       "      <td>3.58</td>\n",
       "    </tr>\n",
       "  </tbody>\n",
       "</table>\n",
       "</div>"
      ],
      "text/plain": [
       "                    name   cost  rate  \\\n",
       "0                  Jalsa  800.0   4.1   \n",
       "1         Spice Elephant  800.0   4.1   \n",
       "2        San Churro Cafe  800.0   3.8   \n",
       "3  Addhuri Udupi Bhojana  300.0   3.7   \n",
       "4          Grand Village  600.0   3.8   \n",
       "\n",
       "                                        reviews_list  \\\n",
       "0  rated 40 ratedn beautiful place dine inthe int...   \n",
       "1  rated 40 ratedn dinner family turned good choo...   \n",
       "2  rated 30 ratedn ambience good enough pocket fr...   \n",
       "3  rated 40 ratedn great food proper karnataka st...   \n",
       "4  rated 40 ratedn good restaurant neighbourhood ...   \n",
       "\n",
       "                         cuisines  Mean Rating  \n",
       "0  North Indian, Mughlai, Chinese         4.00  \n",
       "1     Chinese, North Indian, Thai         3.97  \n",
       "2          Cafe, Mexican, Italian         3.58  \n",
       "3      South Indian, North Indian         3.45  \n",
       "4        North Indian, Rajasthani         3.58  "
      ]
     },
     "execution_count": 53,
     "metadata": {},
     "output_type": "execute_result"
    }
   ],
   "source": [
    "zomato.head()"
   ]
  },
  {
   "cell_type": "code",
   "execution_count": 54,
   "metadata": {},
   "outputs": [],
   "source": [
    "# RESTAURANT NAMES:\n",
    "restaurant_names = list(zomato['name'].unique())\n",
    "def get_top_words(column, top_nu_of_words, nu_of_word):\n",
    "    vec = CountVectorizer(ngram_range= nu_of_word, stop_words='english')\n",
    "    bag_of_words = vec.fit_transform(column)\n",
    "    sum_words = bag_of_words.sum(axis=0)\n",
    "    words_freq = [(word, sum_words[0, idx]) for word, idx in vec.vocabulary_.items()]\n",
    "    words_freq =sorted(words_freq, key = lambda x: x[1], reverse=True)\n",
    "    return words_freq[:top_nu_of_words]\n",
    "    \n",
    "\n",
    "import pandas\n",
    "\n",
    "# Randomly sample 60% of your dataframe\n",
    "df_percent = zomato.sample(frac=0.5)"
   ]
  },
  {
   "cell_type": "code",
   "execution_count": 55,
   "metadata": {},
   "outputs": [
    {
     "ename": "KeyboardInterrupt",
     "evalue": "",
     "output_type": "error",
     "traceback": [
      "\u001b[0;31m---------------------------------------------------------------------------\u001b[0m",
      "\u001b[0;31mKeyboardInterrupt\u001b[0m                         Traceback (most recent call last)",
      "Cell \u001b[0;32mIn[55], line 12\u001b[0m\n\u001b[1;32m      9\u001b[0m tfidf_matrix \u001b[38;5;241m=\u001b[39m tfidf\u001b[38;5;241m.\u001b[39mfit_transform(df_percent[\u001b[38;5;124m'\u001b[39m\u001b[38;5;124mreviews_list\u001b[39m\u001b[38;5;124m'\u001b[39m])\n\u001b[1;32m     11\u001b[0m \u001b[38;5;66;03m# Compute cosine similarities\u001b[39;00m\n\u001b[0;32m---> 12\u001b[0m cosine_similarities \u001b[38;5;241m=\u001b[39m \u001b[43mlinear_kernel\u001b[49m\u001b[43m(\u001b[49m\u001b[43mtfidf_matrix\u001b[49m\u001b[43m,\u001b[49m\u001b[43m \u001b[49m\u001b[43mtfidf_matrix\u001b[49m\u001b[43m)\u001b[49m\n",
      "File \u001b[0;32m~/miniconda3/lib/python3.12/site-packages/sklearn/utils/_param_validation.py:213\u001b[0m, in \u001b[0;36mvalidate_params.<locals>.decorator.<locals>.wrapper\u001b[0;34m(*args, **kwargs)\u001b[0m\n\u001b[1;32m    207\u001b[0m \u001b[38;5;28;01mtry\u001b[39;00m:\n\u001b[1;32m    208\u001b[0m     \u001b[38;5;28;01mwith\u001b[39;00m config_context(\n\u001b[1;32m    209\u001b[0m         skip_parameter_validation\u001b[38;5;241m=\u001b[39m(\n\u001b[1;32m    210\u001b[0m             prefer_skip_nested_validation \u001b[38;5;129;01mor\u001b[39;00m global_skip_validation\n\u001b[1;32m    211\u001b[0m         )\n\u001b[1;32m    212\u001b[0m     ):\n\u001b[0;32m--> 213\u001b[0m         \u001b[38;5;28;01mreturn\u001b[39;00m \u001b[43mfunc\u001b[49m\u001b[43m(\u001b[49m\u001b[38;5;241;43m*\u001b[39;49m\u001b[43margs\u001b[49m\u001b[43m,\u001b[49m\u001b[43m \u001b[49m\u001b[38;5;241;43m*\u001b[39;49m\u001b[38;5;241;43m*\u001b[39;49m\u001b[43mkwargs\u001b[49m\u001b[43m)\u001b[49m\n\u001b[1;32m    214\u001b[0m \u001b[38;5;28;01mexcept\u001b[39;00m InvalidParameterError \u001b[38;5;28;01mas\u001b[39;00m e:\n\u001b[1;32m    215\u001b[0m     \u001b[38;5;66;03m# When the function is just a wrapper around an estimator, we allow\u001b[39;00m\n\u001b[1;32m    216\u001b[0m     \u001b[38;5;66;03m# the function to delegate validation to the estimator, but we replace\u001b[39;00m\n\u001b[1;32m    217\u001b[0m     \u001b[38;5;66;03m# the name of the estimator by the name of the function in the error\u001b[39;00m\n\u001b[1;32m    218\u001b[0m     \u001b[38;5;66;03m# message to avoid confusion.\u001b[39;00m\n\u001b[1;32m    219\u001b[0m     msg \u001b[38;5;241m=\u001b[39m re\u001b[38;5;241m.\u001b[39msub(\n\u001b[1;32m    220\u001b[0m         \u001b[38;5;124mr\u001b[39m\u001b[38;5;124m\"\u001b[39m\u001b[38;5;124mparameter of \u001b[39m\u001b[38;5;124m\\\u001b[39m\u001b[38;5;124mw+ must be\u001b[39m\u001b[38;5;124m\"\u001b[39m,\n\u001b[1;32m    221\u001b[0m         \u001b[38;5;124mf\u001b[39m\u001b[38;5;124m\"\u001b[39m\u001b[38;5;124mparameter of \u001b[39m\u001b[38;5;132;01m{\u001b[39;00mfunc\u001b[38;5;241m.\u001b[39m\u001b[38;5;18m__qualname__\u001b[39m\u001b[38;5;132;01m}\u001b[39;00m\u001b[38;5;124m must be\u001b[39m\u001b[38;5;124m\"\u001b[39m,\n\u001b[1;32m    222\u001b[0m         \u001b[38;5;28mstr\u001b[39m(e),\n\u001b[1;32m    223\u001b[0m     )\n",
      "File \u001b[0;32m~/miniconda3/lib/python3.12/site-packages/sklearn/metrics/pairwise.py:1386\u001b[0m, in \u001b[0;36mlinear_kernel\u001b[0;34m(X, Y, dense_output)\u001b[0m\n\u001b[1;32m   1352\u001b[0m \u001b[38;5;250m\u001b[39m\u001b[38;5;124;03m\"\"\"\u001b[39;00m\n\u001b[1;32m   1353\u001b[0m \u001b[38;5;124;03mCompute the linear kernel between X and Y.\u001b[39;00m\n\u001b[1;32m   1354\u001b[0m \n\u001b[0;32m   (...)\u001b[0m\n\u001b[1;32m   1383\u001b[0m \u001b[38;5;124;03m       [1., 2.]])\u001b[39;00m\n\u001b[1;32m   1384\u001b[0m \u001b[38;5;124;03m\"\"\"\u001b[39;00m\n\u001b[1;32m   1385\u001b[0m X, Y \u001b[38;5;241m=\u001b[39m check_pairwise_arrays(X, Y)\n\u001b[0;32m-> 1386\u001b[0m \u001b[38;5;28;01mreturn\u001b[39;00m \u001b[43msafe_sparse_dot\u001b[49m\u001b[43m(\u001b[49m\u001b[43mX\u001b[49m\u001b[43m,\u001b[49m\u001b[43m \u001b[49m\u001b[43mY\u001b[49m\u001b[38;5;241;43m.\u001b[39;49m\u001b[43mT\u001b[49m\u001b[43m,\u001b[49m\u001b[43m \u001b[49m\u001b[43mdense_output\u001b[49m\u001b[38;5;241;43m=\u001b[39;49m\u001b[43mdense_output\u001b[49m\u001b[43m)\u001b[49m\n",
      "File \u001b[0;32m~/miniconda3/lib/python3.12/site-packages/sklearn/utils/extmath.py:205\u001b[0m, in \u001b[0;36msafe_sparse_dot\u001b[0;34m(a, b, dense_output)\u001b[0m\n\u001b[1;32m    203\u001b[0m         ret \u001b[38;5;241m=\u001b[39m np\u001b[38;5;241m.\u001b[39mdot(a, b)\n\u001b[1;32m    204\u001b[0m \u001b[38;5;28;01melse\u001b[39;00m:\n\u001b[0;32m--> 205\u001b[0m     ret \u001b[38;5;241m=\u001b[39m \u001b[43ma\u001b[49m\u001b[43m \u001b[49m\u001b[38;5;241;43m@\u001b[39;49m\u001b[43m \u001b[49m\u001b[43mb\u001b[49m\n\u001b[1;32m    207\u001b[0m \u001b[38;5;28;01mif\u001b[39;00m (\n\u001b[1;32m    208\u001b[0m     sparse\u001b[38;5;241m.\u001b[39missparse(a)\n\u001b[1;32m    209\u001b[0m     \u001b[38;5;129;01mand\u001b[39;00m sparse\u001b[38;5;241m.\u001b[39missparse(b)\n\u001b[1;32m    210\u001b[0m     \u001b[38;5;129;01mand\u001b[39;00m dense_output\n\u001b[1;32m    211\u001b[0m     \u001b[38;5;129;01mand\u001b[39;00m \u001b[38;5;28mhasattr\u001b[39m(ret, \u001b[38;5;124m\"\u001b[39m\u001b[38;5;124mtoarray\u001b[39m\u001b[38;5;124m\"\u001b[39m)\n\u001b[1;32m    212\u001b[0m ):\n\u001b[1;32m    213\u001b[0m     \u001b[38;5;28;01mreturn\u001b[39;00m ret\u001b[38;5;241m.\u001b[39mtoarray()\n",
      "File \u001b[0;32m~/miniconda3/lib/python3.12/site-packages/scipy/sparse/_base.py:669\u001b[0m, in \u001b[0;36m_spbase.__matmul__\u001b[0;34m(self, other)\u001b[0m\n\u001b[1;32m    666\u001b[0m \u001b[38;5;28;01mif\u001b[39;00m isscalarlike(other):\n\u001b[1;32m    667\u001b[0m     \u001b[38;5;28;01mraise\u001b[39;00m \u001b[38;5;167;01mValueError\u001b[39;00m(\u001b[38;5;124m\"\u001b[39m\u001b[38;5;124mScalar operands are not allowed, \u001b[39m\u001b[38;5;124m\"\u001b[39m\n\u001b[1;32m    668\u001b[0m                      \u001b[38;5;124m\"\u001b[39m\u001b[38;5;124muse \u001b[39m\u001b[38;5;124m'\u001b[39m\u001b[38;5;124m*\u001b[39m\u001b[38;5;124m'\u001b[39m\u001b[38;5;124m instead\u001b[39m\u001b[38;5;124m\"\u001b[39m)\n\u001b[0;32m--> 669\u001b[0m \u001b[38;5;28;01mreturn\u001b[39;00m \u001b[38;5;28;43mself\u001b[39;49m\u001b[38;5;241;43m.\u001b[39;49m\u001b[43m_matmul_dispatch\u001b[49m\u001b[43m(\u001b[49m\u001b[43mother\u001b[49m\u001b[43m)\u001b[49m\n",
      "File \u001b[0;32m~/miniconda3/lib/python3.12/site-packages/scipy/sparse/_base.py:580\u001b[0m, in \u001b[0;36m_spbase._matmul_dispatch\u001b[0;34m(self, other)\u001b[0m\n\u001b[1;32m    578\u001b[0m     \u001b[38;5;28;01mif\u001b[39;00m \u001b[38;5;28mself\u001b[39m\u001b[38;5;241m.\u001b[39mshape[\u001b[38;5;241m-\u001b[39m\u001b[38;5;241m1\u001b[39m] \u001b[38;5;241m!=\u001b[39m other\u001b[38;5;241m.\u001b[39mshape[\u001b[38;5;241m0\u001b[39m]:\n\u001b[1;32m    579\u001b[0m         \u001b[38;5;28;01mraise\u001b[39;00m \u001b[38;5;167;01mValueError\u001b[39;00m(\u001b[38;5;124m'\u001b[39m\u001b[38;5;124mdimension mismatch\u001b[39m\u001b[38;5;124m'\u001b[39m)\n\u001b[0;32m--> 580\u001b[0m     \u001b[38;5;28;01mreturn\u001b[39;00m \u001b[38;5;28;43mself\u001b[39;49m\u001b[38;5;241;43m.\u001b[39;49m\u001b[43m_matmul_sparse\u001b[49m\u001b[43m(\u001b[49m\u001b[43mother\u001b[49m\u001b[43m)\u001b[49m\n\u001b[1;32m    582\u001b[0m \u001b[38;5;66;03m# If it's a list or whatever, treat it like an array\u001b[39;00m\n\u001b[1;32m    583\u001b[0m other_a \u001b[38;5;241m=\u001b[39m np\u001b[38;5;241m.\u001b[39masanyarray(other)\n",
      "File \u001b[0;32m~/miniconda3/lib/python3.12/site-packages/scipy/sparse/_compressed.py:554\u001b[0m, in \u001b[0;36m_cs_matrix._matmul_sparse\u001b[0;34m(self, other)\u001b[0m\n\u001b[1;32m    551\u001b[0m data \u001b[38;5;241m=\u001b[39m np\u001b[38;5;241m.\u001b[39mempty(nnz, dtype\u001b[38;5;241m=\u001b[39mupcast(\u001b[38;5;28mself\u001b[39m\u001b[38;5;241m.\u001b[39mdtype, other\u001b[38;5;241m.\u001b[39mdtype))\n\u001b[1;32m    553\u001b[0m fn \u001b[38;5;241m=\u001b[39m \u001b[38;5;28mgetattr\u001b[39m(_sparsetools, \u001b[38;5;28mself\u001b[39m\u001b[38;5;241m.\u001b[39mformat \u001b[38;5;241m+\u001b[39m \u001b[38;5;124m'\u001b[39m\u001b[38;5;124m_matmat\u001b[39m\u001b[38;5;124m'\u001b[39m)\n\u001b[0;32m--> 554\u001b[0m \u001b[43mfn\u001b[49m\u001b[43m(\u001b[49m\u001b[43mM\u001b[49m\u001b[43m,\u001b[49m\u001b[43m \u001b[49m\u001b[43mN\u001b[49m\u001b[43m,\u001b[49m\u001b[43m \u001b[49m\u001b[43mnp\u001b[49m\u001b[38;5;241;43m.\u001b[39;49m\u001b[43masarray\u001b[49m\u001b[43m(\u001b[49m\u001b[38;5;28;43mself\u001b[39;49m\u001b[38;5;241;43m.\u001b[39;49m\u001b[43mindptr\u001b[49m\u001b[43m,\u001b[49m\u001b[43m \u001b[49m\u001b[43mdtype\u001b[49m\u001b[38;5;241;43m=\u001b[39;49m\u001b[43midx_dtype\u001b[49m\u001b[43m)\u001b[49m\u001b[43m,\u001b[49m\n\u001b[1;32m    555\u001b[0m \u001b[43m   \u001b[49m\u001b[43mnp\u001b[49m\u001b[38;5;241;43m.\u001b[39;49m\u001b[43masarray\u001b[49m\u001b[43m(\u001b[49m\u001b[38;5;28;43mself\u001b[39;49m\u001b[38;5;241;43m.\u001b[39;49m\u001b[43mindices\u001b[49m\u001b[43m,\u001b[49m\u001b[43m \u001b[49m\u001b[43mdtype\u001b[49m\u001b[38;5;241;43m=\u001b[39;49m\u001b[43midx_dtype\u001b[49m\u001b[43m)\u001b[49m\u001b[43m,\u001b[49m\n\u001b[1;32m    556\u001b[0m \u001b[43m   \u001b[49m\u001b[38;5;28;43mself\u001b[39;49m\u001b[38;5;241;43m.\u001b[39;49m\u001b[43mdata\u001b[49m\u001b[43m,\u001b[49m\n\u001b[1;32m    557\u001b[0m \u001b[43m   \u001b[49m\u001b[43mnp\u001b[49m\u001b[38;5;241;43m.\u001b[39;49m\u001b[43masarray\u001b[49m\u001b[43m(\u001b[49m\u001b[43mother\u001b[49m\u001b[38;5;241;43m.\u001b[39;49m\u001b[43mindptr\u001b[49m\u001b[43m,\u001b[49m\u001b[43m \u001b[49m\u001b[43mdtype\u001b[49m\u001b[38;5;241;43m=\u001b[39;49m\u001b[43midx_dtype\u001b[49m\u001b[43m)\u001b[49m\u001b[43m,\u001b[49m\n\u001b[1;32m    558\u001b[0m \u001b[43m   \u001b[49m\u001b[43mnp\u001b[49m\u001b[38;5;241;43m.\u001b[39;49m\u001b[43masarray\u001b[49m\u001b[43m(\u001b[49m\u001b[43mother\u001b[49m\u001b[38;5;241;43m.\u001b[39;49m\u001b[43mindices\u001b[49m\u001b[43m,\u001b[49m\u001b[43m \u001b[49m\u001b[43mdtype\u001b[49m\u001b[38;5;241;43m=\u001b[39;49m\u001b[43midx_dtype\u001b[49m\u001b[43m)\u001b[49m\u001b[43m,\u001b[49m\n\u001b[1;32m    559\u001b[0m \u001b[43m   \u001b[49m\u001b[43mother\u001b[49m\u001b[38;5;241;43m.\u001b[39;49m\u001b[43mdata\u001b[49m\u001b[43m,\u001b[49m\n\u001b[1;32m    560\u001b[0m \u001b[43m   \u001b[49m\u001b[43mindptr\u001b[49m\u001b[43m,\u001b[49m\u001b[43m \u001b[49m\u001b[43mindices\u001b[49m\u001b[43m,\u001b[49m\u001b[43m \u001b[49m\u001b[43mdata\u001b[49m\u001b[43m)\u001b[49m\n\u001b[1;32m    562\u001b[0m \u001b[38;5;28;01mif\u001b[39;00m new_shape \u001b[38;5;241m==\u001b[39m ():\n\u001b[1;32m    563\u001b[0m     \u001b[38;5;28;01mreturn\u001b[39;00m np\u001b[38;5;241m.\u001b[39marray(data[\u001b[38;5;241m0\u001b[39m])\n",
      "\u001b[0;31mKeyboardInterrupt\u001b[0m: "
     ]
    }
   ],
   "source": [
    "from sklearn.feature_extraction.text import TfidfVectorizer\n",
    "from sklearn.metrics.pairwise import linear_kernel\n",
    "\n",
    "# Assuming df_percent is already defined\n",
    "df_percent.set_index('name', inplace=True)\n",
    "\n",
    "# Creating tf-idf matrix\n",
    "tfidf = TfidfVectorizer(analyzer='word', ngram_range=(1, 2), min_df=1, stop_words='english')\n",
    "tfidf_matrix = tfidf.fit_transform(df_percent['reviews_list'])\n",
    "\n",
    "# Compute cosine similarities\n",
    "cosine_similarities = linear_kernel(tfidf_matrix, tfidf_matrix)\n"
   ]
  },
  {
   "cell_type": "code",
   "execution_count": null,
   "metadata": {},
   "outputs": [],
   "source": [
    "df_percent.head()"
   ]
  },
  {
   "cell_type": "code",
   "execution_count": null,
   "metadata": {
    "scrolled": true
   },
   "outputs": [],
   "source": [
    "df_percent['reviews_list'][0]"
   ]
  },
  {
   "cell_type": "code",
   "execution_count": null,
   "metadata": {},
   "outputs": [],
   "source": [
    "index_value = \"Bheema'S\"  # replace with the actual index value you're checking\n",
    "if index_value in df_percent.index:\n",
    "    print(f\"Index '{index_value}' is present in the DataFrame.\")\n",
    "else:\n",
    "    print(f\"Index '{index_value}' is not present in the DataFrame.\")\n"
   ]
  },
  {
   "cell_type": "code",
   "execution_count": null,
   "metadata": {},
   "outputs": [],
   "source": [
    "# Ensure that 'indices' is a mapping from restaurant names to their integer index\n",
    "indices = pd.Series(df_percent.index, index=range(len(df_percent)))\n",
    "\n",
    "def recommend(name, cosine_similarities=cosine_similarities):\n",
    "    # Create a list to put top restaurants\n",
    "    recommend_restaurant = []\n",
    "    \n",
    "    # Check if the restaurant is in the DataFrame\n",
    "    if name in df_percent.index:\n",
    "        # Find the integer index of the restaurant\n",
    "        idx = indices[df_percent.index == name].index[0]\n",
    "    else:\n",
    "        print(f\"Restaurant '{name}' not found in the DataFrame.\")\n",
    "        return pd.DataFrame()  # Return an empty DataFrame if the restaurant is not found\n",
    "    \n",
    "    # Find the restaurants with a similar cosine similarity value and order them from highest to lowest\n",
    "    score_series = pd.Series(cosine_similarities[idx]).sort_values(ascending=False)\n",
    "    \n",
    "    # Extract top 30 restaurant indexes with a similar cosine similarity value\n",
    "    top30_indexes = list(score_series.iloc[1:31].index)  # Start from 1 to avoid recommending the same restaurant\n",
    "    \n",
    "    # Names of the top 30 restaurants\n",
    "    for each in top30_indexes:\n",
    "        recommend_restaurant.append(list(df_percent.index)[each])\n",
    "    \n",
    "    # Creating the new DataFrame to show similar restaurants\n",
    "    df_new = pd.DataFrame(columns=['cuisines', 'Mean Rating', 'cost'])\n",
    "    \n",
    "    # Create the top 30 similar restaurants with some of their columns\n",
    "    for each in recommend_restaurant:\n",
    "        temp_df = df_percent[['cuisines', 'Mean Rating', 'cost']][df_percent.index == each]\n",
    "        if not temp_df.empty:  # Ensure the sampled DataFrame is not empty\n",
    "            df_new = pd.concat([df_new, temp_df.sample()])\n",
    "    \n",
    "    # Drop duplicates and sort only the top 10 by the highest Mean Rating\n",
    "    df_new = df_new.drop_duplicates(subset=['cuisines', 'Mean Rating', 'cost'], keep='first')\n",
    "    df_new = df_new.sort_values(by='Mean Rating', ascending=False).head(10)\n",
    "    \n",
    "    print('TOP %s RESTAURANTS LIKE %s WITH SIMILAR REVIEWS: ' % (str(len(df_new)), name))\n",
    "    \n",
    "    return df_new\n"
   ]
  },
  {
   "cell_type": "code",
   "execution_count": null,
   "metadata": {},
   "outputs": [],
   "source": [
    "recommend(\"Bheema'S\") "
   ]
  },
  {
   "cell_type": "code",
   "execution_count": null,
   "metadata": {},
   "outputs": [],
   "source": [
    "'Jalsa' in restaurant_names"
   ]
  },
  {
   "cell_type": "code",
   "execution_count": null,
   "metadata": {
    "scrolled": true,
    "tags": []
   },
   "outputs": [],
   "source": [
    "restaurant_names"
   ]
  },
  {
   "cell_type": "code",
   "execution_count": null,
   "metadata": {},
   "outputs": [],
   "source": []
  }
 ],
 "metadata": {
  "kernelspec": {
   "display_name": "mongo py 9",
   "language": "python",
   "name": "mongo"
  },
  "language_info": {
   "codemirror_mode": {
    "name": "ipython",
    "version": 3
   },
   "file_extension": ".py",
   "mimetype": "text/x-python",
   "name": "python",
   "nbconvert_exporter": "python",
   "pygments_lexer": "ipython3",
   "version": "3.12.4"
  }
 },
 "nbformat": 4,
 "nbformat_minor": 4
}
